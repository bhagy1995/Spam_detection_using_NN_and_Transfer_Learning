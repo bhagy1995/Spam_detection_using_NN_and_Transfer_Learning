{
  "nbformat": 4,
  "nbformat_minor": 0,
  "metadata": {
    "colab": {
      "provenance": []
    },
    "kernelspec": {
      "name": "python3",
      "display_name": "Python 3"
    },
    "language_info": {
      "name": "python"
    },
    "gpuClass": "standard",
    "accelerator": "GPU"
  },
  "cells": [
    {
      "cell_type": "markdown",
      "metadata": {
        "id": "_bphECiUa9zw"
      },
      "source": [
        "# Lab 4: Sequential Data\n",
        "\n",
        "This lab is based on an assignment developed by Prof. Lisa Zhang.\n",
        "\n",
        "In this assignment, we will build a recurrent neural network to classify a SMS text message\n",
        "as \"spam\" or \"not spam\". In the process, you will\n",
        "    \n",
        "1. Clean and process text data for machine learning.\n",
        "2. Understand and implement a character-level recurrent neural network.\n",
        "3. Use torchtext to build recurrent neural network models.\n",
        "4. Understand batching for a recurrent neural network, and use torchtext to implement RNN batching.\n",
        "5. Understand how transfer learning can be applied to NLP projects.\n",
        "\n",
        "### What to submit\n",
        "\n",
        "Submit an HTML file containing all your code, outputs, and write-up\n",
        "from parts A and B. You can produce a HTML file directly from Google Colab. The Colab instructions are provided at the end of this document.\n",
        "\n",
        "**Do not submit any other files produced by your code.**\n",
        "\n",
        "Include a link to your colab file in your submission.\n",
        "\n",
        "Please use Google Colab to complete this assignment. If you want to use Jupyter Notebook, please complete the assignment and upload your Jupyter Notebook file to Google Colab for submission. "
      ]
    },
    {
      "cell_type": "markdown",
      "source": [
        "## BHAGYASHREE KESWANI\n",
        "## STUDENT ID: 1006790849"
      ],
      "metadata": {
        "id": "YIfP-XZazCU5"
      }
    },
    {
      "cell_type": "markdown",
      "metadata": {
        "id": "rWiUqJJTa9z6"
      },
      "source": [
        "## Colab Link\n",
        "\n",
        "Include a link to your colab file here\n",
        "\n",
        "Colab Link: https://colab.research.google.com/drive/1xK8ZLyIjKq5WgxGwnjb_eveSFGPv-cEk?usp=sharing"
      ]
    },
    {
      "cell_type": "markdown",
      "metadata": {
        "id": "fFMdtipUPNdu"
      },
      "source": [
        "# PART A - Spam Detection [30 pt]\n",
        "\n",
        "In this part we will construct a LSTM model for identifying spam from non spam messages."
      ]
    },
    {
      "cell_type": "code",
      "source": [
        "!pip install torchtext==0.9"
      ],
      "metadata": {
        "id": "WHqc7rLmAHG8",
        "colab": {
          "base_uri": "https://localhost:8080/"
        },
        "outputId": "df082835-f129-4e16-fa7b-6871f934b359"
      },
      "execution_count": 15,
      "outputs": [
        {
          "output_type": "stream",
          "name": "stdout",
          "text": [
            "Looking in indexes: https://pypi.org/simple, https://us-python.pkg.dev/colab-wheels/public/simple/\n",
            "Requirement already satisfied: torchtext==0.9 in /usr/local/lib/python3.7/dist-packages (0.9.0)\n",
            "Requirement already satisfied: torch==1.8.0 in /usr/local/lib/python3.7/dist-packages (from torchtext==0.9) (1.8.0)\n",
            "Requirement already satisfied: tqdm in /usr/local/lib/python3.7/dist-packages (from torchtext==0.9) (4.64.1)\n",
            "Requirement already satisfied: numpy in /usr/local/lib/python3.7/dist-packages (from torchtext==0.9) (1.21.6)\n",
            "Requirement already satisfied: requests in /usr/local/lib/python3.7/dist-packages (from torchtext==0.9) (2.23.0)\n",
            "Requirement already satisfied: typing-extensions in /usr/local/lib/python3.7/dist-packages (from torch==1.8.0->torchtext==0.9) (4.1.1)\n",
            "Requirement already satisfied: certifi>=2017.4.17 in /usr/local/lib/python3.7/dist-packages (from requests->torchtext==0.9) (2022.9.24)\n",
            "Requirement already satisfied: idna<3,>=2.5 in /usr/local/lib/python3.7/dist-packages (from requests->torchtext==0.9) (2.10)\n",
            "Requirement already satisfied: urllib3!=1.25.0,!=1.25.1,<1.26,>=1.21.1 in /usr/local/lib/python3.7/dist-packages (from requests->torchtext==0.9) (1.24.3)\n",
            "Requirement already satisfied: chardet<4,>=3.0.2 in /usr/local/lib/python3.7/dist-packages (from requests->torchtext==0.9) (3.0.4)\n"
          ]
        }
      ]
    },
    {
      "cell_type": "code",
      "metadata": {
        "id": "HgfNOUaPa9z8"
      },
      "source": [
        "import torch\n",
        "import torch.nn as nn\n",
        "import torch.nn.functional as F\n",
        "import torch.optim as optim\n",
        "import numpy as np\n",
        "import matplotlib.pyplot as plt"
      ],
      "execution_count": 16,
      "outputs": []
    },
    {
      "cell_type": "markdown",
      "metadata": {
        "id": "M0jLI9LBa90C"
      },
      "source": [
        "## Part 1. Data Cleaning [10 pt]\n",
        "\n",
        "We will be using the \"SMS Spam Collection Data Set\" available at http://archive.ics.uci.edu/ml/datasets/SMS+Spam+Collection\n",
        "\n",
        "There is a link to download the \"Data Folder\" at the very top of the webpage. Download the zip file, unzip it, and upload the file `SMSSpamCollection` to Colab.    "
      ]
    },
    {
      "cell_type": "markdown",
      "metadata": {
        "id": "sSuF7C_Ga90E"
      },
      "source": [
        "### Part (a) [1 pt]\n",
        "\n",
        "Open up the file in Python, and print out one example of a spam SMS, and one example of a non-spam SMS.\n",
        "\n",
        "What is the label value for a spam message, and what is the label value for a non-spam message?"
      ]
    },
    {
      "cell_type": "code",
      "source": [
        "f = open('SMSSpamCollection')\n",
        "labels=[]\n",
        "msgs=[]\n",
        "for data in f:\n",
        "  labels.append(data.split('\\t',2)[0])\n",
        "  msgs.append(data.split('\\t',2)[1])\n",
        "\n",
        "ham_msgs,spam_msgs=[],[]\n",
        "for i in range(len(labels)):\n",
        "  if 'ham' in labels[i]:\n",
        "    ham_msgs.append(msgs[i])\n",
        "  else:\n",
        "    spam_msgs.append(msgs[i])\n",
        "print('Spam label:', np.unique(labels)[1])\n",
        "print('Spam message:',spam_msgs[0])\n",
        "\n",
        "print('Non-Spam label:', np.unique(labels)[0])\n",
        "print('Non-Spam message:',ham_msgs[0])"
      ],
      "metadata": {
        "colab": {
          "base_uri": "https://localhost:8080/"
        },
        "id": "WbTN9661j0sI",
        "outputId": "70ec6ae3-34a4-4200-a610-17da4754b659"
      },
      "execution_count": 17,
      "outputs": [
        {
          "output_type": "stream",
          "name": "stdout",
          "text": [
            "Spam label: spam\n",
            "Spam message: Free entry in 2 a wkly comp to win FA Cup final tkts 21st May 2005. Text FA to 87121 to receive entry question(std txt rate)T&C's apply 08452810075over18's\n",
            "\n",
            "Non-Spam label: ham\n",
            "Non-Spam message: Go until jurong point, crazy.. Available only in bugis n great world la e buffet... Cine there got amore wat...\n",
            "\n"
          ]
        }
      ]
    },
    {
      "cell_type": "markdown",
      "metadata": {
        "id": "AukA6vMVa90d"
      },
      "source": [
        "### Part (b) [1 pt]\n",
        "\n",
        "How many spam messages are there in the data set?\n",
        "How many non-spam messages are there in the data set?\n"
      ]
    },
    {
      "cell_type": "code",
      "metadata": {
        "id": "LgsqyemVa90e",
        "colab": {
          "base_uri": "https://localhost:8080/"
        },
        "outputId": "fbe97068-0523-40ea-8b68-afc1d396f8a5"
      },
      "source": [
        "print(\"Number of spam messages in the data set:\",len(spam_msgs))\n",
        "print(\"Number of non-spam messages in the data set:\",len(ham_msgs))"
      ],
      "execution_count": 18,
      "outputs": [
        {
          "output_type": "stream",
          "name": "stdout",
          "text": [
            "Number of spam messages in the data set: 747\n",
            "Number of non-spam messages in the data set: 4827\n"
          ]
        }
      ]
    },
    {
      "cell_type": "markdown",
      "metadata": {
        "id": "d1WXxVt6a90h"
      },
      "source": [
        "### Part (c) [2 pt]\n",
        "\n",
        "We will be using the package `torchtext` to load, process, and batch the data.\n",
        "A tutorial to torchtext is available below. This tutorial uses the same\n",
        "Sentiment140 data set that we explored during lecture.\n",
        "\n",
        "https://medium.com/@sonicboom8/sentiment-analysis-torchtext-55fb57b1fab8\n",
        "\n",
        "Unlike what we did during lecture, we will be building a **character level RNN**.\n",
        "That is, we will treat each **character** as a token in our sequence,\n",
        "rather than each **word**.\n",
        "\n",
        "Identify two advantage and two disadvantage of modelling SMS text\n",
        "messages as a sequence of characters rather than a sequence of words."
      ]
    },
    {
      "cell_type": "markdown",
      "source": [
        "**Advantages of character level RNN:**\n",
        "\n",
        "- The vocabulary for character-level RNN is relatively much smaller than word sequences which has to store all words in the dataset. The entire English vocabularu consists of thousands of words whereas number of characters is just 97. Thus, character-level RNN implies small size of encoding and lower memory space requirement.\n",
        "\n",
        "- When word encoding is used, the model is not able to learn unusual words and treats it as 'unknown' text. In character-level RNN, the models are trained on characters which helps predicting new text unavailable in the vocabulary.\n",
        "\n",
        "- Character RNN do not require tokenization and are free from grammatical/spelling mistakes. However, spelling errors may significantly impact word-based RNN performance due to change in sentence meaning.\n",
        "\n",
        "- Character-level RNN work especially better with certain languages having complex morphology like Russian, Turkish etc which ar every difficult to be modelled using word sequences.\n",
        "\n",
        "\n",
        "**Disadvantages of character level RNN:**\n",
        "\n",
        "- The character-level models require higher number of hidden layers and take longer time to train as they need to learn spelling, syntax, semantics etc whereas word-based RNN train faster. The complex architecture may lead to vanishing gradients dropping the model performance.\n",
        "\n",
        "- The number of elements in a character sequence is equal to the total number of characters in the sentence whereas for words, it is the total number of words in the sentence. Thus, the number of predictions required in the former is more making the result more erroreneous.\n",
        "\n",
        "- Some words that lead to high error may have a substantial representation in the sequence as they are modelled in the form of characters. This may result in message being misclassified as spam/ non-spam.\n",
        "\n",
        "- Character RNN is not good at capturing long distance dependencies. To predict the third word in the sequence, it has to go through all the characters in first and second words. \n"
      ],
      "metadata": {
        "id": "8WD3dhViUlll"
      }
    },
    {
      "cell_type": "markdown",
      "metadata": {
        "id": "ie_D0bv9a90k"
      },
      "source": [
        "### Part (d) [1 pt]\n",
        "\n",
        "We will be loading our data set using `torchtext.data.TabularDataset`. The\n",
        "constructor will read directly from the `SMSSpamCollection` file. \n",
        "\n",
        "For the data file to be read successfuly, we\n",
        "need to specify the **fields** (columns) in the file. \n",
        "In our case, the dataset has two fields: \n",
        "\n",
        "- a text field containing the sms messages,\n",
        "- a label field which will be converted into a binary label.\n",
        "\n",
        "Split the dataset into `train`, `valid`, and `test`. Use a 60-20-20 split.\n",
        "You may find this torchtext API page helpful:\n",
        "https://torchtext.readthedocs.io/en/latest/data.html#dataset\n",
        "\n",
        "Hint: There is a `Dataset` method that can perform the random split for you."
      ]
    },
    {
      "cell_type": "code",
      "metadata": {
        "id": "P_Y6Puz9a90l"
      },
      "source": [
        "import torchtext\n",
        "\n",
        "text_field = torchtext.legacy.data.Field(sequential=True,      # text sequence\n",
        "                                  tokenize=lambda x: x, # because are building a character-RNN\n",
        "                                  include_lengths=True, # to track the length of sequences, for batching\n",
        "                                  batch_first=True,\n",
        "                                  use_vocab=True)       # to turn each character into an integer index\n",
        "label_field = torchtext.legacy.data.Field(sequential=False,    # not a sequence\n",
        "                                   use_vocab=False,     # don't need to track vocabulary\n",
        "                                   is_target=True,      \n",
        "                                   batch_first=True,\n",
        "                                   preprocessing=lambda x: int(x == 'spam')) # convert text to 0 and 1\n",
        "\n",
        "fields = [('label', label_field), ('sms', text_field)]\n",
        "dataset = torchtext.legacy.data.TabularDataset(\"SMSSpamCollection\", # name of the file\n",
        "                                        \"tsv\",               # fields are separated by a tab\n",
        "                                        fields)\n",
        "\n",
        "dataset[0].sms\n",
        "dataset[0].label\n",
        "train, valid, test = dataset.split([0.60, 0.20, 0.20])"
      ],
      "execution_count": 19,
      "outputs": []
    },
    {
      "cell_type": "markdown",
      "metadata": {
        "id": "v6nP0Ks_a90o"
      },
      "source": [
        "### Part (e) [2 pt]\n",
        "\n",
        "You saw in part (b) that there are many more non-spam messages than spam messages.\n",
        "This **imbalance** in our training data will be problematic for training.\n",
        "We can fix this disparity by duplicating spam messages in the training set,\n",
        "so that the training set is roughly **balanced**.\n",
        "\n",
        "Explain why having a balanced training set is helpful for training our neural network.\n",
        "\n",
        "Note: if you are not sure, try removing the below code and train your mode."
      ]
    },
    {
      "cell_type": "markdown",
      "source": [
        "**Answer:**\n",
        "- There is high chance that a classifier may show bias towards the class with larger number of samples. The model may have a high accuracy for the majority class but may have a pooor performance on the class with insufficient samples. This will not reflect the actual performance of the model as it may have a high overall accuracy but a very poor recall/precision.\n",
        "\n",
        "- In our dataset, there are fewer spam messages than non-spam messages. If the data is not balanced, the model may just learn to predict spam messages and may even predict spam as non-spam messages. "
      ],
      "metadata": {
        "id": "HKFYLLlhA5uA"
      }
    },
    {
      "cell_type": "code",
      "metadata": {
        "id": "FWvx9_rka90p"
      },
      "source": [
        "# save the original training examples\n",
        "old_train_examples = train.examples\n",
        "# get all the spam messages in `train`\n",
        "train_spam = []\n",
        "for item in train.examples:\n",
        "    if item.label == 1:\n",
        "        train_spam.append(item)\n",
        "# duplicate each spam message 6 more times\n",
        "train.examples = old_train_examples + train_spam * 6"
      ],
      "execution_count": 20,
      "outputs": []
    },
    {
      "cell_type": "markdown",
      "metadata": {
        "id": "j7eUmBEva90r"
      },
      "source": [
        "### Part (f) [1 pt]\n",
        "\n",
        "We need to build the vocabulary on the training data by running the below code.\n",
        "This finds all the possible character tokens in the training set.\n",
        "\n",
        "Explain what the variables `text_field.vocab.stoi` and `text_field.vocab.itos` represent."
      ]
    },
    {
      "cell_type": "markdown",
      "source": [
        "**Answer:**\n",
        "\n",
        "text_field.vocab.stoi: A dictionary mapping the token strings to a numerical identifier.\n",
        "\n",
        "text_field.vocab.itos: A list of token strings indexed by their numerical indentifier\n"
      ],
      "metadata": {
        "id": "X-omDIuJBN1r"
      }
    },
    {
      "cell_type": "code",
      "metadata": {
        "id": "8CQM8flKa90s",
        "colab": {
          "base_uri": "https://localhost:8080/"
        },
        "outputId": "323f274f-9bdb-4de9-dc27-53b20b5dc57b"
      },
      "source": [
        "text_field.build_vocab(train)\n",
        "print(\"stoi: \", text_field.vocab.stoi)\n",
        "print(\"itos: \", text_field.vocab.itos)"
      ],
      "execution_count": 21,
      "outputs": [
        {
          "output_type": "stream",
          "name": "stdout",
          "text": [
            "stoi:  defaultdict(<bound method Vocab._default_unk_index of <torchtext.vocab.Vocab object at 0x7f7290107b90>>, {'<unk>': 0, '<pad>': 1, ' ': 2, 'e': 3, 'o': 4, 't': 5, 'a': 6, 'n': 7, 'r': 8, 'i': 9, 's': 10, 'l': 11, 'u': 12, '0': 13, 'h': 14, 'd': 15, '.': 16, 'c': 17, 'm': 18, 'y': 19, 'w': 20, 'p': 21, 'g': 22, '1': 23, 'f': 24, '2': 25, 'b': 26, '8': 27, 'T': 28, 'k': 29, 'E': 30, 'v': 31, '5': 32, 'C': 33, 'S': 34, 'O': 35, '4': 36, 'I': 37, '3': 38, '7': 39, 'x': 40, 'N': 41, '6': 42, 'A': 43, '!': 44, 'R': 45, ',': 46, '9': 47, 'P': 48, 'M': 49, 'U': 50, 'W': 51, 'L': 52, 'H': 53, 'D': 54, 'B': 55, 'Y': 56, 'G': 57, 'F': 58, \"'\": 59, '/': 60, '?': 61, '£': 62, '-': 63, '&': 64, ':': 65, 'V': 66, 'z': 67, 'X': 68, 'K': 69, 'j': 70, '*': 71, 'J': 72, ')': 73, ';': 74, '+': 75, 'q': 76, '\"': 77, '#': 78, '(': 79, 'Q': 80, '@': 81, '=': 82, 'Z': 83, 'ü': 84, '>': 85, 'Ü': 86, '$': 87, '\\x92': 88, '‘': 89, '[': 90, ']': 91, '<': 92, '%': 93, '|': 94, '_': 95, '\\x93': 96, '“': 97, '’': 98, '…': 99, '–': 100, 'é': 101, '\\\\': 102, '^': 103, '~': 104, '\\x91': 105, '»': 106, 'É': 107, 'è': 108, 'ì': 109, '—': 110, '┾': 111, '〨': 112, '鈥': 113})\n",
            "itos:  ['<unk>', '<pad>', ' ', 'e', 'o', 't', 'a', 'n', 'r', 'i', 's', 'l', 'u', '0', 'h', 'd', '.', 'c', 'm', 'y', 'w', 'p', 'g', '1', 'f', '2', 'b', '8', 'T', 'k', 'E', 'v', '5', 'C', 'S', 'O', '4', 'I', '3', '7', 'x', 'N', '6', 'A', '!', 'R', ',', '9', 'P', 'M', 'U', 'W', 'L', 'H', 'D', 'B', 'Y', 'G', 'F', \"'\", '/', '?', '£', '-', '&', ':', 'V', 'z', 'X', 'K', 'j', '*', 'J', ')', ';', '+', 'q', '\"', '#', '(', 'Q', '@', '=', 'Z', 'ü', '>', 'Ü', '$', '\\x92', '‘', '[', ']', '<', '%', '|', '_', '\\x93', '“', '’', '…', '–', 'é', '\\\\', '^', '~', '\\x91', '»', 'É', 'è', 'ì', '—', '┾', '〨', '鈥']\n"
          ]
        }
      ]
    },
    {
      "cell_type": "markdown",
      "metadata": {
        "id": "TC8WVE8Ua90u"
      },
      "source": [
        "### Part (g) [1 pt]\n",
        "\n",
        "The tokens `<unk>` and `<pad>` were not in our SMS text messages.\n",
        "What do these two values represent?"
      ]
    },
    {
      "cell_type": "markdown",
      "source": [
        "**Answer:**\n",
        "\n",
        "**unk**: an \"unknown token\" representing an unkown character in train vocabulary.\n",
        "\n",
        "**pad**: character 1  appended to the texts to have same length messages in a given batch.\n",
        "\n"
      ],
      "metadata": {
        "id": "AK1tBVLyBIVc"
      }
    },
    {
      "cell_type": "markdown",
      "metadata": {
        "id": "Ff5CNk7Qa90y"
      },
      "source": [
        "### Part (h) [1 pt]\n",
        "\n",
        "Since text sequences are of variable length, `torchtext` provides a `BucketIterator` data loader,\n",
        "which batches similar length sequences together. The iterator also provides functionalities to\n",
        "pad sequences automatically.\n",
        "\n",
        "Take a look at 10 batches in `train_iter`. What is the maximum length of the\n",
        "input sequence in each batch? How many `<pad>` tokens are used in each of the 10\n",
        "batches?"
      ]
    },
    {
      "cell_type": "code",
      "metadata": {
        "id": "V8N8qLWOa90y"
      },
      "source": [
        "train_iter = torchtext.legacy.data.BucketIterator(train,\n",
        "                                           batch_size=32,\n",
        "                                           sort_key=lambda x: len(x.sms), # to minimize padding\n",
        "                                           sort_within_batch=True,        # sort within each batch\n",
        "                                           repeat=False)                  # repeat the iterator for many epochs"
      ],
      "execution_count": 22,
      "outputs": []
    },
    {
      "cell_type": "markdown",
      "source": [
        "**Printing out the length of each batch, maximum length of the input sequence in each batch and number of pad tokens in first 10 batches:**"
      ],
      "metadata": {
        "id": "e9M3Kh5ptr7p"
      }
    },
    {
      "cell_type": "code",
      "source": [
        "for i,batch in enumerate(train_iter):\n",
        "    if i<10:\n",
        "      print(\"Batch \", i)\n",
        "      print('Length of the batch:',len(batch))\n",
        "      print(\"Max length of the input sequence:\",(batch.sms[1]).max().item())\n",
        "      print('Number of pad tokens:',(batch.sms[0]==1).sum().item())\n",
        "      print('-------------------------------------------------------')      \n",
        "    else:\n",
        "      break"
      ],
      "metadata": {
        "id": "2mWm8W6so00Y",
        "colab": {
          "base_uri": "https://localhost:8080/"
        },
        "outputId": "c6a18a59-8ad0-48ba-da80-ede5031e37bd"
      },
      "execution_count": 24,
      "outputs": [
        {
          "output_type": "stream",
          "name": "stdout",
          "text": [
            "Batch  0\n",
            "Length of the batch: 32\n",
            "Max length of the input sequence: 156\n",
            "Number of pad tokens: 14\n",
            "-------------------------------------------------------\n",
            "Batch  1\n",
            "Length of the batch: 32\n",
            "Max length of the input sequence: 158\n",
            "Number of pad tokens: 0\n",
            "-------------------------------------------------------\n",
            "Batch  2\n",
            "Length of the batch: 32\n",
            "Max length of the input sequence: 41\n",
            "Number of pad tokens: 20\n",
            "-------------------------------------------------------\n",
            "Batch  3\n",
            "Length of the batch: 32\n",
            "Max length of the input sequence: 154\n",
            "Number of pad tokens: 0\n",
            "-------------------------------------------------------\n",
            "Batch  4\n",
            "Length of the batch: 32\n",
            "Max length of the input sequence: 43\n",
            "Number of pad tokens: 40\n",
            "-------------------------------------------------------\n",
            "Batch  5\n",
            "Length of the batch: 32\n",
            "Max length of the input sequence: 154\n",
            "Number of pad tokens: 21\n",
            "-------------------------------------------------------\n",
            "Batch  6\n",
            "Length of the batch: 32\n",
            "Max length of the input sequence: 139\n",
            "Number of pad tokens: 26\n",
            "-------------------------------------------------------\n",
            "Batch  7\n",
            "Length of the batch: 32\n",
            "Max length of the input sequence: 111\n",
            "Number of pad tokens: 49\n",
            "-------------------------------------------------------\n",
            "Batch  8\n",
            "Length of the batch: 32\n",
            "Max length of the input sequence: 121\n",
            "Number of pad tokens: 49\n",
            "-------------------------------------------------------\n",
            "Batch  9\n",
            "Length of the batch: 32\n",
            "Max length of the input sequence: 67\n",
            "Number of pad tokens: 63\n",
            "-------------------------------------------------------\n"
          ]
        }
      ]
    },
    {
      "cell_type": "markdown",
      "metadata": {
        "id": "y7HnqP6_a904"
      },
      "source": [
        "## Part 2. Model Building [5 pt]\n",
        "\n",
        "Build a recurrent neural network model, using an architecture of your choosing. \n",
        "Use the one-hot embedding of each character as input to your recurrent network.\n",
        "Use one or more fully-connected layers to make the prediction based on your\n",
        "recurrent network output.\n",
        "\n",
        "Instead of using the RNN output value for the final token, another often used\n",
        "strategy is to max-pool over the entire output array. That is, instead of calling\n",
        "something like:\n",
        "\n",
        "```\n",
        "out, _ = self.rnn(x)\n",
        "self.fc(out[:, -1, :])\n",
        "```\n",
        "\n",
        "where `self.rnn` is an `nn.RNN`, `nn.GRU`, or `nn.LSTM` module, and `self.fc` is a \n",
        "fully-connected \n",
        "layer, we use:\n",
        "\n",
        "```\n",
        "out, _ = self.rnn(x)\n",
        "self.fc(torch.max(out, dim=1)[0])\n",
        "```\n",
        "\n",
        "This works reasonably in practice. An even better alternative is to concatenate the\n",
        "max-pooling and average-pooling of the RNN outputs:\n",
        "\n",
        "```\n",
        "out, _ = self.rnn(x)\n",
        "out = torch.cat([torch.max(out, dim=1)[0], \n",
        "                 torch.mean(out, dim=1)], dim=1)\n",
        "self.fc(out)\n",
        "```\n",
        "\n",
        "We encourage you to try out all these options. The way you pool the RNN outputs\n",
        "is one of the \"hyperparameters\" that you can choose to tune later on."
      ]
    },
    {
      "cell_type": "code",
      "metadata": {
        "id": "jHl1p_Wwa905",
        "colab": {
          "base_uri": "https://localhost:8080/"
        },
        "outputId": "df21ba41-4253-48c2-9a9b-07b4431436a1"
      },
      "source": [
        "# You might find this code helpful for obtaining\n",
        "# PyTorch one-hot vectors.\n",
        "\n",
        "ident = torch.eye(10)\n",
        "print(ident[0]) # one-hot vector\n",
        "print(ident[1]) # one-hot vector\n",
        "x = torch.tensor([[1, 2], [3, 4]])\n",
        "print(ident[x]) # one-hot vectors"
      ],
      "execution_count": 25,
      "outputs": [
        {
          "output_type": "stream",
          "name": "stdout",
          "text": [
            "tensor([1., 0., 0., 0., 0., 0., 0., 0., 0., 0.])\n",
            "tensor([0., 1., 0., 0., 0., 0., 0., 0., 0., 0.])\n",
            "tensor([[[0., 1., 0., 0., 0., 0., 0., 0., 0., 0.],\n",
            "         [0., 0., 1., 0., 0., 0., 0., 0., 0., 0.]],\n",
            "\n",
            "        [[0., 0., 0., 1., 0., 0., 0., 0., 0., 0.],\n",
            "         [0., 0., 0., 0., 1., 0., 0., 0., 0., 0.]]])\n"
          ]
        }
      ]
    },
    {
      "cell_type": "code",
      "metadata": {
        "id": "4LTQ7zFka909"
      },
      "source": [
        "class msgLSTM(nn.Module):\n",
        "  def __init__(self, input_size, hidden_size, type_model = 1):\n",
        "    super(msgLSTM, self).__init__()\n",
        "    self.emb = torch.eye(input_size)\n",
        "    self.hidden_size = hidden_size\n",
        "    self.rnn = nn.LSTM(input_size, hidden_size, batch_first=True)\n",
        "    self.fc = nn.Linear(hidden_size, 2)\n",
        "    self.type_model = type_model\n",
        "    self.name = 'RNN_m{}_h{}'.format(type_model, hidden_size)\n",
        "\n",
        "  def forward(self, x):\n",
        "    # Look up the embedding\n",
        "    x = self.emb[x]\n",
        "    # Set an initial hidden state and cell state\n",
        "    h0= torch.zeros(1, x.size(0), self.hidden_size)\n",
        "    c0= torch.zeros(1, x.size(0), self.hidden_size)\n",
        "    # Forward propagate the LSTM\n",
        "    out, _ = self.rnn(x, (h0, c0))\n",
        "\n",
        "    if self.type_model == 1:\n",
        "      out = self.fc(out[:,-1,:])\n",
        "\n",
        "    if self.type_model == 2:\n",
        "      out = self.fc(torch.max(out, dim=1)[0])\n",
        "      \n",
        "    if self.type_model == 3:\n",
        "      out = torch.cat([torch.max(out, dim=1)[0], torch.mean(out, dim=1)], dim=1)\n",
        "    \n",
        "    return out"
      ],
      "execution_count": 26,
      "outputs": []
    },
    {
      "cell_type": "markdown",
      "metadata": {
        "id": "vKIYPl_Ba90_"
      },
      "source": [
        "## Part 3. Training [8 pt]\n",
        "\n",
        "### Part (a) [2 pt]\n",
        "\n",
        "Complete the `get_accuracy` function, which will compute the\n",
        "accuracy (rate) of your model across a dataset (e.g. validation set).\n",
        "You may modify `torchtext.data.BucketIterator` to make your computation\n",
        "faster."
      ]
    },
    {
      "cell_type": "code",
      "metadata": {
        "id": "pvNfhGD6a91A"
      },
      "source": [
        "def get_accuracy(model, data_loader, criterion):\n",
        "    \"\"\" Compute the accuracy of the `model` across a dataset `data`\n",
        "    \n",
        "    Example usage:\n",
        "    \n",
        "    >>> model = MyRNN() # to be defined\n",
        "    >>> get_accuracy(model, valid) # the variable `valid` is from above\n",
        "    \"\"\"\n",
        "\n",
        "    correct, total, total_loss, n = 0, 0, 0, 0\n",
        "    for data in data_loader:\n",
        "\n",
        "      output=model(data.sms[0])\n",
        "      pred = output.max(1, keepdim=True)[1]\n",
        "\n",
        "      correct += pred.eq(data.label.view_as(pred)).sum().item()\n",
        "      total += data.label.shape[0]\n",
        "      loss = criterion(output, data.label)\n",
        "      total_loss += loss.item()\n",
        "      n+=1\n",
        "\n",
        "    accuracy= float(correct/total)\n",
        "    loss=float(total_loss) / (n+1)\n",
        "\n",
        "    return accuracy,loss"
      ],
      "execution_count": 27,
      "outputs": []
    },
    {
      "cell_type": "markdown",
      "metadata": {
        "id": "TlxlcAC1a91C"
      },
      "source": [
        "### Part (b) [2 pt]\n",
        "\n",
        "Train your model. Plot the training curve of your final model. \n",
        "Your training curve should have the training/validation loss and\n",
        "accuracy plotted periodically.\n",
        "\n",
        "Note: Not all of your batches will have the same batch size.\n",
        "In particular, if your training set does not divide evenly by\n",
        "your batch size, there will be a batch that is smaller than\n",
        "the rest. "
      ]
    },
    {
      "cell_type": "code",
      "source": [
        "def train_network(model, batch_size = 32, num_epochs=5, learning_rate=1e-5):\n",
        "    criterion = nn.CrossEntropyLoss()\n",
        "    optimizer = torch.optim.Adam(model.parameters(), lr=learning_rate)\n",
        "    train_loss=np.zeros(num_epochs)\n",
        "    valid_loss=np.zeros(num_epochs)\n",
        "    train_acc=np.zeros(num_epochs)\n",
        "    valid_acc = np.zeros(num_epochs)\n",
        "    epochs = []\n",
        "    n=0\n",
        "\n",
        "    train_iter = torchtext.legacy.data.BucketIterator(train,\n",
        "                                           batch_size=batch_size,\n",
        "                                           sort_key=lambda x: len(x.sms), # to minimize padding\n",
        "                                           sort_within_batch=True,        # sort within each batch\n",
        "                                           repeat=False)                  # repeat the iterator for many epochs\n",
        "    valid_iter = torchtext.legacy.data.BucketIterator(valid,\n",
        "                                           batch_size=batch_size,\n",
        "                                           sort_key=lambda x: len(x.sms), # to minimize padding\n",
        "                                           sort_within_batch=True,        # sort within each batch\n",
        "                                           repeat=False)                  # repeat the iterator for many epochs\n",
        "    \n",
        "    for epoch in range(num_epochs):\n",
        "      for data in train_iter:\n",
        "        \n",
        "        optimizer.zero_grad()\n",
        "        pred = model(data.sms[0])\n",
        "        loss = criterion(pred, data.label)\n",
        "        loss.backward()\n",
        "        optimizer.step()\n",
        "            \n",
        "      epochs.append(epoch)\n",
        "      train_acc[epoch],train_loss[epoch] = get_accuracy(model, train_iter,criterion=criterion)\n",
        "      valid_acc[epoch],valid_loss[epoch] = get_accuracy(model,valid_iter,criterion = criterion)\n",
        "      \n",
        "      print((\"Epoch : {}/{} , Train accuracy: {} ,Validation accuracy: {}, \\\n",
        "      || Train loss: {} , Validation loss: {}\")\\\n",
        "      .format(epoch+1, num_epochs,train_acc[epoch], valid_acc[epoch],\\\n",
        "              train_loss[epoch],valid_loss[epoch]))\n",
        "      \n",
        "      print((\"\").format())\n",
        "\n",
        "      # Save the model(checkpoint) to a file in google drive\n",
        "      model_path = \"{}_epoch_{}\".format(model.name,epoch+1)\n",
        "      torch.save(model.state_dict(), model_path)\n",
        "\n",
        "                                                                                                                        \n",
        "    # plotting\n",
        "\n",
        "    plt.title(\"Training/Validation Accuracy Curve\")\n",
        "    plt.plot(epochs, train_acc, label=\"Train\")\n",
        "    plt.plot(epochs, valid_acc, label=\"Validation\")\n",
        "    plt.xlabel(\"Epoch\")\n",
        "    plt.ylabel(\"Accuracy\")\n",
        "    plt.legend(loc='best')\n",
        "    plt.show()\n",
        "\n",
        "    plt.title(\"Training/Validation Loss Curve\")\n",
        "    plt.plot(epochs,train_loss, label=\"Train\")\n",
        "    plt.plot(epochs,valid_loss, label=\"Validation\")\n",
        "    plt.xlabel(\"Epoch\")\n",
        "    plt.ylabel(\"Loss\")\n",
        "    plt.legend(loc='best')\n",
        "    plt.show()\n",
        "    \n",
        "    print(\"Final Training Accuracy: {}\".format(train_acc[-1]))\n",
        "    print(\"Final Validation Accuracy: {}\".format(valid_acc[-1])) "
      ],
      "metadata": {
        "id": "3SbwbE3Fz8ev"
      },
      "execution_count": 28,
      "outputs": []
    },
    {
      "cell_type": "code",
      "source": [
        "model = msgLSTM(input_size = len(text_field.vocab),hidden_size = 20,type_model=1)\n",
        "train_network(model,  batch_size = 64,num_epochs=10, learning_rate=1e-3)"
      ],
      "metadata": {
        "id": "5VBIfm7d47Gt",
        "colab": {
          "base_uri": "https://localhost:8080/",
          "height": 975
        },
        "outputId": "77beb34e-9192-4d26-93bd-396244c1f176"
      },
      "execution_count": null,
      "outputs": [
        {
          "output_type": "stream",
          "name": "stdout",
          "text": [
            "Epoch : 1/10 , Train accuracy: 0.7691397667737029 ,Validation accuracy: 0.8493273542600897,       || Train loss: 0.6686321934486957 , Validation loss: 0.6382988346250433\n",
            "\n",
            "Epoch : 2/10 , Train accuracy: 0.8947101571742437 ,Validation accuracy: 0.9506726457399103,       || Train loss: 0.3900710821468779 , Validation loss: 0.33015973003287064\n",
            "\n",
            "Epoch : 3/10 , Train accuracy: 0.9083995267872232 ,Validation accuracy: 0.9533632286995516,       || Train loss: 0.2647466680153887 , Validation loss: 0.22015583672021566\n",
            "\n",
            "Epoch : 4/10 , Train accuracy: 0.9190468142639852 ,Validation accuracy: 0.9596412556053812,       || Train loss: 0.2383748144307669 , Validation loss: 0.20261064171791077\n",
            "\n",
            "Epoch : 5/10 , Train accuracy: 0.9386513435862768 ,Validation accuracy: 0.9560538116591928,       || Train loss: 0.21369061202920497 , Validation loss: 0.19965052761529622\n",
            "\n",
            "Epoch : 6/10 , Train accuracy: 0.9310461382457327 ,Validation accuracy: 0.9695067264573991,       || Train loss: 0.20708619004630663 , Validation loss: 0.1450773771656187\n",
            "\n",
            "Epoch : 7/10 , Train accuracy: 0.9190468142639852 ,Validation accuracy: 0.9013452914798207,       || Train loss: 0.2578899962233102 , Validation loss: 0.2881794681674556\n",
            "\n",
            "Epoch : 8/10 , Train accuracy: 0.9273280378570221 ,Validation accuracy: 0.9524663677130045,       || Train loss: 0.19277235659513067 , Validation loss: 0.16309520425765137\n",
            "\n",
            "Epoch : 9/10 , Train accuracy: 0.9525097177623796 ,Validation accuracy: 0.9748878923766816,       || Train loss: 0.15894984938402443 , Validation loss: 0.12191636399611046\n",
            "\n",
            "Epoch : 10/10 , Train accuracy: 0.952847726888626 ,Validation accuracy: 0.9721973094170404,       || Train loss: 0.16119673587579994 , Validation loss: 0.1418608307446304\n",
            "\n"
          ]
        },
        {
          "output_type": "display_data",
          "data": {
            "text/plain": [
              "<Figure size 432x288 with 1 Axes>"
            ],
            "image/png": "[encoded data removed]"
          },
          "metadata": {
            "needs_background": "light"
          }
        },
        {
          "output_type": "display_data",
          "data": {
            "text/plain": [
              "<Figure size 432x288 with 1 Axes>"
            ],
            "image/png": "[encoded data removed]"
          },
          "metadata": {
            "needs_background": "light"
          }
        },
        {
          "output_type": "stream",
          "name": "stdout",
          "text": [
            "Final Training Accuracy: 0.952847726888626\n",
            "Final Validation Accuracy: 0.9721973094170404\n"
          ]
        }
      ]
    },
    {
      "cell_type": "markdown",
      "metadata": {
        "id": "fE3eRkDAa91F"
      },
      "source": [
        "### Part (c) [2 pt]\n",
        "\n",
        "Choose at least 4 hyperparameters to tune. Explain how you tuned the hyperparameters.\n",
        "You don't need to include your training curve for every model you trained.\n",
        "Instead, explain what hyperparemters you tuned, what the best validation accuracy was,\n",
        "and the reasoning behind the hyperparameter decisions you made.\n",
        "\n",
        "For this assignment, you should tune more than just your learning rate and epoch. \n",
        "Choose at least 2 hyperparameters that are unrelated to the optimizer."
      ]
    },
    {
      "cell_type": "markdown",
      "source": [
        "**Answer:**\n",
        "\n",
        "The hyperparameters selected for tuning are:\n",
        "\n",
        "- **Type of model**: As advised in the handout, different methods are used to generate outputs from the networks. First type uses RNN output value for final token. Second one max-pools over the entire output array while third one concatenates the max-pooling and average-pooling of RNN outputs.\n",
        "\n",
        "- **Hidden size**: As the hidden size is increased, the complexity of the NN increases and enables it to extract more useful features. However, too complex models can lead to overfitting. So, this hyperparameter needs careful tuning.\n",
        "\n",
        "- **Learning Rate**: It determines how quickly the model is adapted to the data. Smaller learning rates make smaller weight updates and take longer to converge while larger rates converge faster making large weight updates. However, too high learning rate may make the model unstable and it may fail to converge to global minimum. Hence, tuning this hyperparameter is important\n",
        "\n",
        "- **Batch size**: Appropriate batch size with appropriate learning rate is essential for good performance. Higher batch sizes allow for higher learning rate whereas smaller batch sizes are stable with lower learning rates.\n",
        "\n",
        "\n",
        "\n",
        "\n",
        "\n",
        "\n"
      ],
      "metadata": {
        "id": "Eb1FuD357ri1"
      }
    },
    {
      "cell_type": "markdown",
      "source": [
        "\n",
        "**How I tuned the hyperparameters:**\n",
        "\n",
        "At first, I increased the hidden size from 20 to 50 in model 1 to see if increasing complexity of the model improves the performance:\n",
        "\n",
        "**Model 1 results:**\n",
        "- Final Training Accuracy: 0.9260674530652933\n",
        "- Final Validation Accuracy: 0.9847533632286996\n",
        "\n",
        "The validation accuracy seems to have increased by 1% meaning that the model is now able to learn more features. I am now increasing the batch size from 32 to 64 in model 2 to see if it results in better learning:\n",
        "\n",
        "**Model 2 results:**\n",
        "- Final Training Accuracy: 0.9371988702442267\n",
        "- Final Validation Accuracy: 0.9856502242152466\n",
        "\n",
        "The validation accuracy increased by 0.001% which means that model is performing slightly better after increasing batch size. I am now increasing the learning rate from 0.001 to 0.002 in model 3 as higher batch size allow for higher learning rates\n",
        "\n",
        "**Model 3 results:**\n",
        "- Final Training Accuracy: 0.9395248380129589\n",
        "- Final Validation Accuracy: 0.9820627802690582\n",
        "\n",
        "The validation accuracy is almost same so I now change the model type from 1 to 2 in model 4.\n",
        "\n",
        "**Model 4 results:**\n",
        "- Final Training Accuracy: 0.9792324306363184\n",
        "- Final Validation Accuracy: 0.9856502242152466\n",
        "\n",
        "The validation accuracy has improved indicating that model type 2 performs better. I now change model type to 3 in model 5 to see if there is any change in performance.\n",
        "\n",
        "**Model 5 results:**\n",
        "- Final Training Accuracy: 0.4790868188635227\n",
        "- Final Validation Accuracy: 0.8475336322869955\n",
        "\n",
        "The accuracies have reduced significantly meaning that this setting is not ideal.\n",
        "\n"
      ],
      "metadata": {
        "id": "NNl_SETIo2fL"
      }
    },
    {
      "cell_type": "markdown",
      "source": [
        "After performing multiple iterations for different values of the hyperparameters listed above, the best validation accuracy obtained was 98.565% in **Model 4**. The corresponding training accuracy was 97.923%. \n",
        "\n",
        "The best model is summarised as follows:\n",
        "\n",
        "- hidden_size=50\n",
        "- model type=2\n",
        "- Batch size=64\n",
        "- Number of epochs=10\n",
        "- Learning rate=0.002"
      ],
      "metadata": {
        "id": "0K8_eDyM3zsI"
      }
    },
    {
      "cell_type": "code",
      "source": [
        "#changing hidden size to 50\n",
        "model_1 = msgLSTM(input_size = len(text_field.vocab),hidden_size = 50,type_model=1)\n",
        "train_network(model_1,  batch_size = 32,num_epochs=10, learning_rate=1e-3)"
      ],
      "metadata": {
        "id": "NWuvjLYm8ZAO",
        "colab": {
          "base_uri": "https://localhost:8080/",
          "height": 975
        },
        "outputId": "3fa5b105-f672-4fcc-950c-cf4641318338"
      },
      "execution_count": null,
      "outputs": [
        {
          "output_type": "stream",
          "name": "stdout",
          "text": [
            "Epoch : 1/10 , Train accuracy: 0.8770559893670045 ,Validation accuracy: 0.9497757847533632,       || Train loss: 0.40669576392361995 , Validation loss: 0.31419317631257904\n",
            "\n",
            "Epoch : 2/10 , Train accuracy: 0.9244060475161987 ,Validation accuracy: 0.9820627802690582,       || Train loss: 0.23226973226195888 , Validation loss: 0.1925538383010361\n",
            "\n",
            "Epoch : 3/10 , Train accuracy: 0.9277288586143878 ,Validation accuracy: 0.9721973094170404,       || Train loss: 0.2168734754288667 , Validation loss: 0.145137637336221\n",
            "\n",
            "Epoch : 4/10 , Train accuracy: 0.9189234092041867 ,Validation accuracy: 0.9829596412556054,       || Train loss: 0.20626367692296443 , Validation loss: 0.10537016277925836\n",
            "\n",
            "Epoch : 5/10 , Train accuracy: 0.9174281442100016 ,Validation accuracy: 0.9829596412556054,       || Train loss: 0.2079516747574273 , Validation loss: 0.1385948339270221\n",
            "\n",
            "Epoch : 6/10 , Train accuracy: 0.9456720385446087 ,Validation accuracy: 0.967713004484305,       || Train loss: 0.21207935639755113 , Validation loss: 0.22014745179977682\n",
            "\n",
            "Epoch : 7/10 , Train accuracy: 0.9332114969263997 ,Validation accuracy: 0.9695067264573991,       || Train loss: 0.19853696746653632 , Validation loss: 0.15346652993725407\n",
            "\n",
            "Epoch : 8/10 , Train accuracy: 0.9315500913773052 ,Validation accuracy: 0.9811659192825112,       || Train loss: 0.18963948326969618 , Validation loss: 0.12078924446056287\n",
            "\n",
            "Epoch : 9/10 , Train accuracy: 0.9332114969263997 ,Validation accuracy: 0.97847533632287,       || Train loss: 0.1837167096814435 , Validation loss: 0.12893390469253063\n",
            "\n",
            "Epoch : 10/10 , Train accuracy: 0.9260674530652933 ,Validation accuracy: 0.9847533632286996,       || Train loss: 0.18802347700356653 , Validation loss: 0.10733459113786618\n",
            "\n"
          ]
        },
        {
          "output_type": "display_data",
          "data": {
            "text/plain": [
              "<Figure size 432x288 with 1 Axes>"
            ],
            "image/png": "[encoded data removed]"
          },
          "metadata": {
            "needs_background": "light"
          }
        },
        {
          "output_type": "display_data",
          "data": {
            "text/plain": [
              "<Figure size 432x288 with 1 Axes>"
            ],
            "image/png": "[encoded data removed]"
          },
          "metadata": {
            "needs_background": "light"
          }
        },
        {
          "output_type": "stream",
          "name": "stdout",
          "text": [
            "Final Training Accuracy: 0.9260674530652933\n",
            "Final Validation Accuracy: 0.9847533632286996\n"
          ]
        }
      ]
    },
    {
      "cell_type": "code",
      "source": [
        "#changing batch size to 64 keeping hidden size=50\n",
        "model_2 = msgLSTM(input_size = len(text_field.vocab),hidden_size = 50,type_model=1)\n",
        "train_network(model_2,  batch_size = 64,num_epochs=10, learning_rate=1e-3)"
      ],
      "metadata": {
        "id": "Ulr9Me5J8iKR",
        "colab": {
          "base_uri": "https://localhost:8080/",
          "height": 975
        },
        "outputId": "dbfb4b9f-53b8-4137-f026-f99d63a783fe"
      },
      "execution_count": null,
      "outputs": [
        {
          "output_type": "stream",
          "name": "stdout",
          "text": [
            "Epoch : 1/10 , Train accuracy: 0.8700780860608075 ,Validation accuracy: 0.8780269058295964,       || Train loss: 0.5157845159992576 , Validation loss: 0.5471113167311016\n",
            "\n",
            "Epoch : 2/10 , Train accuracy: 0.91792656587473 ,Validation accuracy: 0.9632286995515695,       || Train loss: 0.250744347111322 , Validation loss: 0.2277485108689258\n",
            "\n",
            "Epoch : 3/10 , Train accuracy: 0.7785346403056986 ,Validation accuracy: 0.9031390134529148,       || Train loss: 0.4753619270243992 , Validation loss: 0.28940287389253316\n",
            "\n",
            "Epoch : 4/10 , Train accuracy: 0.9230769230769231 ,Validation accuracy: 0.9668161434977578,       || Train loss: 0.21527441705499464 , Validation loss: 0.16886353257455325\n",
            "\n",
            "Epoch : 5/10 , Train accuracy: 0.9290579830536634 ,Validation accuracy: 0.979372197309417,       || Train loss: 0.18339916764913747 , Validation loss: 0.10630084182086744\n",
            "\n",
            "Epoch : 6/10 , Train accuracy: 0.941020103007144 ,Validation accuracy: 0.9811659192825112,       || Train loss: 0.1754090155203206 , Validation loss: 0.11255604244376484\n",
            "\n",
            "Epoch : 7/10 , Train accuracy: 0.9383618541285927 ,Validation accuracy: 0.9856502242152466,       || Train loss: 0.16308355207244554 , Validation loss: 0.07735993468055599\n",
            "\n",
            "Epoch : 8/10 , Train accuracy: 0.9484964279780694 ,Validation accuracy: 0.9802690582959641,       || Train loss: 0.165970542623351 , Validation loss: 0.12404484203771542\n",
            "\n",
            "Epoch : 9/10 , Train accuracy: 0.9546436285097192 ,Validation accuracy: 0.9605381165919282,       || Train loss: 0.1564264933889111 , Validation loss: 0.17224323318192833\n",
            "\n",
            "Epoch : 10/10 , Train accuracy: 0.9371988702442267 ,Validation accuracy: 0.9856502242152466,       || Train loss: 0.1697694692799511 , Validation loss: 0.09613998528373868\n",
            "\n"
          ]
        },
        {
          "output_type": "display_data",
          "data": {
            "text/plain": [
              "<Figure size 432x288 with 1 Axes>"
            ],
            "image/png": "[encoded data removed]"
          },
          "metadata": {
            "needs_background": "light"
          }
        },
        {
          "output_type": "display_data",
          "data": {
            "text/plain": [
              "<Figure size 432x288 with 1 Axes>"
            ],
            "image/png": "[encoded data removed]"
          },
          "metadata": {
            "needs_background": "light"
          }
        },
        {
          "output_type": "stream",
          "name": "stdout",
          "text": [
            "Final Training Accuracy: 0.9371988702442267\n",
            "Final Validation Accuracy: 0.9856502242152466\n"
          ]
        }
      ]
    },
    {
      "cell_type": "code",
      "source": [
        "#changing learning rate=0.002 keeping hidden size= 50 and batch size= 64\n",
        "model_3 = msgLSTM(input_size = len(text_field.vocab),hidden_size = 50,type_model=1)\n",
        "train_network(model_3,  batch_size = 64,num_epochs=10, learning_rate=0.002)"
      ],
      "metadata": {
        "id": "_xemt8FR8iWI",
        "colab": {
          "base_uri": "https://localhost:8080/",
          "height": 975
        },
        "outputId": "c0c7ebab-c929-44a5-eb41-49f4f4ad1892"
      },
      "execution_count": null,
      "outputs": [
        {
          "output_type": "stream",
          "name": "stdout",
          "text": [
            "Epoch : 1/10 , Train accuracy: 0.9310516697125768 ,Validation accuracy: 0.9345291479820628,       || Train loss: 0.34415163891389966 , Validation loss: 0.5006782757608514\n",
            "\n",
            "Epoch : 2/10 , Train accuracy: 0.9312178102674863 ,Validation accuracy: 0.967713004484305,       || Train loss: 0.22493897044720748 , Validation loss: 0.18602637593683444\n",
            "\n",
            "Epoch : 3/10 , Train accuracy: 0.9367004485794983 ,Validation accuracy: 0.979372197309417,       || Train loss: 0.19705788820283487 , Validation loss: 0.1168892844335029\n",
            "\n",
            "Epoch : 4/10 , Train accuracy: 0.9425153680013292 ,Validation accuracy: 0.9730941704035875,       || Train loss: 0.18313020986776488 , Validation loss: 0.14274184876366666\n",
            "\n",
            "Epoch : 5/10 , Train accuracy: 0.9440106329955142 ,Validation accuracy: 0.9802690582959641,       || Train loss: 0.17406333199081322 , Validation loss: 0.10906868506419032\n",
            "\n",
            "Epoch : 6/10 , Train accuracy: 0.9385279946835022 ,Validation accuracy: 0.9811659192825112,       || Train loss: 0.18308584096181826 , Validation loss: 0.12262737515725587\n",
            "\n",
            "Epoch : 7/10 , Train accuracy: 0.9423492274464197 ,Validation accuracy: 0.9811659192825112,       || Train loss: 0.16908668683997044 , Validation loss: 0.09774955930678468\n",
            "\n",
            "Epoch : 8/10 , Train accuracy: 0.9478318657584316 ,Validation accuracy: 0.979372197309417,       || Train loss: 0.16461341873703836 , Validation loss: 0.10973147930283296\n",
            "\n",
            "Epoch : 9/10 , Train accuracy: 0.9476657252035222 ,Validation accuracy: 0.9775784753363229,       || Train loss: 0.15175170960719697 , Validation loss: 0.10333044454455376\n",
            "\n",
            "Epoch : 10/10 , Train accuracy: 0.9395248380129589 ,Validation accuracy: 0.9820627802690582,       || Train loss: 0.15948511202198765 , Validation loss: 0.10577383186472089\n",
            "\n"
          ]
        },
        {
          "output_type": "display_data",
          "data": {
            "text/plain": [
              "<Figure size 432x288 with 1 Axes>"
            ],
            "image/png": "[encoded data removed]"
          },
          "metadata": {
            "needs_background": "light"
          }
        },
        {
          "output_type": "display_data",
          "data": {
            "text/plain": [
              "<Figure size 432x288 with 1 Axes>"
            ],
            "image/png": "[encoded data removed]"
          },
          "metadata": {
            "needs_background": "light"
          }
        },
        {
          "output_type": "stream",
          "name": "stdout",
          "text": [
            "Final Training Accuracy: 0.9395248380129589\n",
            "Final Validation Accuracy: 0.9820627802690582\n"
          ]
        }
      ]
    },
    {
      "cell_type": "code",
      "source": [
        "#changing model type to 2\n",
        "model_4 = msgLSTM(input_size = len(text_field.vocab),hidden_size = 50,type_model=2)\n",
        "train_network(model_4,  batch_size = 64,num_epochs=10, learning_rate=0.002)"
      ],
      "metadata": {
        "id": "v21D8bmk8iiJ",
        "colab": {
          "base_uri": "https://localhost:8080/",
          "height": 975
        },
        "outputId": "5ccd8101-772a-4672-e56e-17125c863b38"
      },
      "execution_count": null,
      "outputs": [
        {
          "output_type": "stream",
          "name": "stdout",
          "text": [
            "Epoch : 1/10 , Train accuracy: 0.9282272802791162 ,Validation accuracy: 0.97847533632287,       || Train loss: 0.30583842494525015 , Validation loss: 0.3956476810731386\n",
            "\n",
            "Epoch : 2/10 , Train accuracy: 0.9474995846486127 ,Validation accuracy: 0.9641255605381166,       || Train loss: 0.19230648178684837 , Validation loss: 0.22743102437571475\n",
            "\n",
            "Epoch : 3/10 , Train accuracy: 0.9425153680013292 ,Validation accuracy: 0.9775784753363229,       || Train loss: 0.17506170754010478 , Validation loss: 0.1617504373977059\n",
            "\n",
            "Epoch : 4/10 , Train accuracy: 0.9466688818740655 ,Validation accuracy: 0.97847533632287,       || Train loss: 0.1479856215931553 , Validation loss: 0.11153856919784295\n",
            "\n",
            "Epoch : 5/10 , Train accuracy: 0.9511546768566207 ,Validation accuracy: 0.9775784753363229,       || Train loss: 0.12635727196660204 , Validation loss: 0.09256339426103391\n",
            "\n",
            "Epoch : 6/10 , Train accuracy: 0.9614553912610068 ,Validation accuracy: 0.9811659192825112,       || Train loss: 0.10983434135171895 , Validation loss: 0.06896589951295602\n",
            "\n",
            "Epoch : 7/10 , Train accuracy: 0.9682671540122944 ,Validation accuracy: 0.9811659192825112,       || Train loss: 0.09574029961853132 , Validation loss: 0.06498197309280697\n",
            "\n",
            "Epoch : 8/10 , Train accuracy: 0.9705931217810267 ,Validation accuracy: 0.9811659192825112,       || Train loss: 0.09131256078641552 , Validation loss: 0.07512868774172507\n",
            "\n",
            "Epoch : 9/10 , Train accuracy: 0.9669380295730188 ,Validation accuracy: 0.9829596412556054,       || Train loss: 0.09055707782681566 , Validation loss: 0.05322969851917342\n",
            "\n",
            "Epoch : 10/10 , Train accuracy: 0.9792324306363184 ,Validation accuracy: 0.9856502242152466,       || Train loss: 0.06878494049306028 , Validation loss: 0.05757157940809664\n",
            "\n"
          ]
        },
        {
          "output_type": "display_data",
          "data": {
            "text/plain": [
              "<Figure size 432x288 with 1 Axes>"
            ],
            "image/png": "[encoded data removed]"
          },
          "metadata": {
            "needs_background": "light"
          }
        },
        {
          "output_type": "display_data",
          "data": {
            "text/plain": [
              "<Figure size 432x288 with 1 Axes>"
            ],
            "image/png": "[encoded data removed]"
          },
          "metadata": {
            "needs_background": "light"
          }
        },
        {
          "output_type": "stream",
          "name": "stdout",
          "text": [
            "Final Training Accuracy: 0.9792324306363184\n",
            "Final Validation Accuracy: 0.9856502242152466\n"
          ]
        }
      ]
    },
    {
      "cell_type": "code",
      "source": [
        "#changing model type to 3\n",
        "model_5 = msgLSTM(input_size = len(text_field.vocab),hidden_size = 50,type_model=3)\n",
        "train_network(model_5,  batch_size = 64,num_epochs=10, learning_rate=0.002)"
      ],
      "metadata": {
        "colab": {
          "base_uri": "https://localhost:8080/",
          "height": 975
        },
        "outputId": "7210c79e-b656-46d7-8863-ce2b5949270e",
        "id": "kNBHsXjkh_fW"
      },
      "execution_count": null,
      "outputs": [
        {
          "output_type": "stream",
          "name": "stdout",
          "text": [
            "Epoch : 1/10 , Train accuracy: 0.5167472087985335 ,Validation accuracy: 0.13901345291479822,       || Train loss: 3.3609038528643156 , Validation loss: 3.22133815915961\n",
            "\n",
            "Epoch : 2/10 , Train accuracy: 0.5444092651224796 ,Validation accuracy: 0.20269058295964126,       || Train loss: 3.2039722969657496 , Validation loss: 3.067739147888987\n",
            "\n",
            "Epoch : 3/10 , Train accuracy: 0.5167472087985335 ,Validation accuracy: 0.13901345291479822,       || Train loss: 3.112093616786756 , Validation loss: 2.9786428401344702\n",
            "\n",
            "Epoch : 4/10 , Train accuracy: 0.7420429928345276 ,Validation accuracy: 0.5650224215246636,       || Train loss: 3.046396413602327 , Validation loss: 2.914857211865877\n",
            "\n",
            "Epoch : 5/10 , Train accuracy: 0.8390268288618563 ,Validation accuracy: 0.8116591928251121,       || Train loss: 2.9986877868050024 , Validation loss: 2.865619333166825\n",
            "\n",
            "Epoch : 6/10 , Train accuracy: 0.47592067988668557 ,Validation accuracy: 0.8385650224215246,       || Train loss: 2.969567810861688 , Validation loss: 2.8298705126109875\n",
            "\n",
            "Epoch : 7/10 , Train accuracy: 0.7108815197467089 ,Validation accuracy: 0.8376681614349776,       || Train loss: 2.9490674345116865 , Validation loss: 2.8163631715272603\n",
            "\n",
            "Epoch : 8/10 , Train accuracy: 0.4760873187802033 ,Validation accuracy: 0.8457399103139014,       || Train loss: 2.9344135962034525 , Validation loss: 2.7955120613700464\n",
            "\n",
            "Epoch : 9/10 , Train accuracy: 0.7352107982003 ,Validation accuracy: 0.8430493273542601,       || Train loss: 2.9226696591628225 , Validation loss: 2.7884910985043176\n",
            "\n",
            "Epoch : 10/10 , Train accuracy: 0.4790868188635227 ,Validation accuracy: 0.8475336322869955,       || Train loss: 2.917107125332481 , Validation loss: 2.7775399559422542\n",
            "\n"
          ]
        },
        {
          "output_type": "display_data",
          "data": {
            "text/plain": [
              "<Figure size 432x288 with 1 Axes>"
            ],
            "image/png": "[encoded data removed]"
          },
          "metadata": {
            "needs_background": "light"
          }
        },
        {
          "output_type": "display_data",
          "data": {
            "text/plain": [
              "<Figure size 432x288 with 1 Axes>"
            ],
            "image/png": "[encoded data removed]"
          },
          "metadata": {
            "needs_background": "light"
          }
        },
        {
          "output_type": "stream",
          "name": "stdout",
          "text": [
            "Final Training Accuracy: 0.4790868188635227\n",
            "Final Validation Accuracy: 0.8475336322869955\n"
          ]
        }
      ]
    },
    {
      "cell_type": "markdown",
      "source": [
        "**Loading the best model below:**"
      ],
      "metadata": {
        "id": "RKgjUZ4p8rS3"
      }
    },
    {
      "cell_type": "code",
      "source": [
        "best_model = msgLSTM(input_size = len(text_field.vocab),hidden_size = 50, \\\n",
        "                     type_model = 2)\n",
        "model_path = '/content/RNN_m2_h50_epoch_10'\n",
        "state = torch.load('RNN_m2_h50_epoch_10')\n",
        "best_model.load_state_dict(state)"
      ],
      "metadata": {
        "id": "wRoFM8YLF7u9",
        "colab": {
          "base_uri": "https://localhost:8080/"
        },
        "outputId": "5e694747-e1c0-4a95-8b53-d61cb0bd7921"
      },
      "execution_count": 30,
      "outputs": [
        {
          "output_type": "execute_result",
          "data": {
            "text/plain": [
              "<All keys matched successfully>"
            ]
          },
          "metadata": {},
          "execution_count": 30
        }
      ]
    },
    {
      "cell_type": "markdown",
      "metadata": {
        "id": "v7DY56rKa91I"
      },
      "source": [
        "### Part (d) [1 pt]\n",
        "\n",
        "Before we deploy a machine learning model, we usually want to have a better understanding\n",
        "of how our model performs beyond its validation accuracy. An important metric to track is\n",
        "*how well our model performs in certain subsets of the data*.\n",
        "\n",
        "In particular, what is the model's error rate amongst data with negative labels?\n",
        "This is called the **false positive rate**.\n",
        "\n",
        "What about the model's error rate amongst data with positive labels?\n",
        "This is called the **false negative rate**.\n",
        "\n",
        "Report your final model's false positive and false negative rate across the\n",
        "validation set."
      ]
    },
    {
      "cell_type": "code",
      "metadata": {
        "id": "7ggbQSdba91J"
      },
      "source": [
        "# Create a Dataset of only spam validation examples\n",
        "valid_spam = torchtext.legacy.data.Dataset(\n",
        "    [e for e in valid.examples if e.label == 1],\n",
        "    valid.fields)\n",
        "# Create a Dataset of only non-spam validation examples\n",
        "valid_nospam = torchtext.legacy.data.Dataset(\n",
        "    [e for e in valid.examples if e.label == 0],\n",
        "    valid.fields)"
      ],
      "execution_count": 31,
      "outputs": []
    },
    {
      "cell_type": "code",
      "source": [
        "spam_valid_iter = torchtext.legacy.data.BucketIterator(valid_spam,\n",
        "                                           batch_size=32,\n",
        "                                           sort_key=lambda x: len(x.sms), # to minimize padding\n",
        "                                           sort_within_batch=True,        # sort within each batch\n",
        "                                           repeat=False) \n",
        "\n",
        "nospam_valid_iter = torchtext.legacy.data.BucketIterator(valid_nospam,\n",
        "                                           batch_size=32,\n",
        "                                           sort_key=lambda x: len(x.sms), # to minimize padding\n",
        "                                           sort_within_batch=True,        # sort within each batch\n",
        "                                           repeat=False)  \n",
        "\n",
        "spam_acc, spam_loss = get_accuracy(best_model, spam_valid_iter, criterion=nn.CrossEntropyLoss())\n",
        "nospam_acc, nospam_loss = get_accuracy(best_model, nospam_valid_iter, criterion=nn.CrossEntropyLoss())\n",
        "\n",
        "false_neg_rate= 1-spam_acc\n",
        "false_pos_rate= 1-nospam_acc\n",
        "\n",
        "print('False negative rate for validation data:',false_neg_rate)\n",
        "print('False positive rate for validation data:',false_pos_rate)"
      ],
      "metadata": {
        "id": "mL5jcnHuG7-k",
        "colab": {
          "base_uri": "https://localhost:8080/"
        },
        "outputId": "2985d6d8-c0d2-4fe3-d884-05be0fd12ada"
      },
      "execution_count": 32,
      "outputs": [
        {
          "output_type": "stream",
          "name": "stdout",
          "text": [
            "False negative rate for validation data: 0.06896551724137934\n",
            "False positive rate for validation data: 0.03402061855670102\n"
          ]
        }
      ]
    },
    {
      "cell_type": "markdown",
      "metadata": {
        "id": "N1iRteb3a91O"
      },
      "source": [
        "### Part (e) [1 pt]\n",
        "\n",
        "The impact of a false positive vs a false negative can be drastically different.\n",
        "If our spam detection algorithm was deployed on your phone, what is the impact\n",
        "of a false positive on the phone's user? What is the impact of a false negative?"
      ]
    },
    {
      "cell_type": "markdown",
      "source": [
        "- False positive and false negative rates are important metrics to assess spam detection model. They can help protect users from fraud and other risks and instead pay attention to genuine messages.\n",
        "- A false positive means that non-spam messages are flagged as spam and are not received by the user. This would result in user losing important information related to payment, meetings etc. Missing important information could have severe repurcussions for doctors, government officials and other people in critical professions.\n",
        "- A false negative means that the model failed to detect spam messages and the user received them in his inbox. There are chances that the user could be scammed and may have his personal details leaked. Also, it is stressful for the user to deal with too many spam notifications which he has to delete from his inbox everytime.\n"
      ],
      "metadata": {
        "id": "RB8rQd_NAsha"
      }
    },
    {
      "cell_type": "markdown",
      "metadata": {
        "id": "Gznefulsa91V"
      },
      "source": [
        "## Part 4. Evaluation [7 pt]\n",
        "\n",
        "### Part (a) [1 pt]\n",
        "\n",
        "Report the final test accuracy of your model."
      ]
    },
    {
      "cell_type": "code",
      "metadata": {
        "id": "D5L5D-A1a91W",
        "colab": {
          "base_uri": "https://localhost:8080/"
        },
        "outputId": "f9112478-73f1-4a5c-c8f3-3b94a6a0f5db"
      },
      "source": [
        "test_iter = torchtext.legacy.data.BucketIterator(test,\n",
        "                                           batch_size=32,\n",
        "                                           sort_key=lambda x: len(x.sms), # to minimize padding\n",
        "                                           sort_within_batch=True,        # sort within each batch\n",
        "                                           repeat=False) \n",
        "\n",
        "test_accuracy, test_loss = get_accuracy(best_model, test_iter, criterion=nn.CrossEntropyLoss())\n",
        "print('Final Test Accuracy for best model:',test_accuracy)"
      ],
      "execution_count": 33,
      "outputs": [
        {
          "output_type": "stream",
          "name": "stdout",
          "text": [
            "Final Test Accuracy for best model: 0.9515260323159784\n"
          ]
        }
      ]
    },
    {
      "cell_type": "markdown",
      "metadata": {
        "id": "6Hjmd8rca91Y"
      },
      "source": [
        "### Part (b) [1 pt]\n",
        "\n",
        "Report the false positive rate and false negative rate of your model across the test set."
      ]
    },
    {
      "cell_type": "code",
      "metadata": {
        "id": "GFiAKztJa91Z",
        "colab": {
          "base_uri": "https://localhost:8080/"
        },
        "outputId": "1af8a141-0331-4594-ddbc-60363aa6a0d9"
      },
      "source": [
        "# Create a Dataset of only spam test examples\n",
        "test_spam = torchtext.legacy.data.Dataset(\n",
        "    [e for e in test.examples if e.label == 1],\n",
        "    test.fields)\n",
        "\n",
        "spam_test_iter = torchtext.legacy.data.BucketIterator(test_spam,\n",
        "                                           batch_size=32,\n",
        "                                           sort_key=lambda x: len(x.sms), # to minimize padding\n",
        "                                           sort_within_batch=True,        # sort within each batch\n",
        "                                           repeat=False)                  # repeat the iterator for many epochs\n",
        "\n",
        "# Create a Dataset of only non-spam test examples\n",
        "test_nospam = torchtext.legacy.data.Dataset(\n",
        "    [e for e in test.examples if e.label == 0],\n",
        "    test.fields)\n",
        "\n",
        "nospam_test_iter = torchtext.legacy.data.BucketIterator(test_nospam,\n",
        "                                           batch_size=32,\n",
        "                                           sort_key=lambda x: len(x.sms), # to minimize padding\n",
        "                                           sort_within_batch=True,        # sort within each batch\n",
        "                                           repeat=False)                  # repeat the iterator for many epochs\n",
        "\n",
        "spam_acc_test, spam_loss_test = get_accuracy(best_model, spam_test_iter, criterion=nn.CrossEntropyLoss())\n",
        "nospam_acc_test, nospam_loss_test = get_accuracy(best_model, nospam_test_iter, criterion=nn.CrossEntropyLoss())\n",
        "\n",
        "false_neg_rate_test= 1-spam_acc_test\n",
        "false_pos_rate_test= 1-nospam_acc_test\n",
        "\n",
        "print('False negative rate for test data:',false_neg_rate_test)\n",
        "print('False positive rate for test data:',false_pos_rate_test)"
      ],
      "execution_count": 34,
      "outputs": [
        {
          "output_type": "stream",
          "name": "stdout",
          "text": [
            "False negative rate for test data: 0.07333333333333336\n",
            "False positive rate for test data: 0.0456431535269709\n"
          ]
        }
      ]
    },
    {
      "cell_type": "markdown",
      "metadata": {
        "id": "0jGHtQFpa91b"
      },
      "source": [
        "### Part (c) [3 pt]\n",
        "\n",
        "What is your model's prediction of the **probability** that\n",
        "the SMS message \"machine learning is sooo cool!\" is spam?\n",
        "\n",
        "Hint: To begin, use `text_field.vocab.stoi` to look up the index\n",
        "of each character in the vocabulary."
      ]
    },
    {
      "cell_type": "code",
      "metadata": {
        "colab": {
          "base_uri": "https://localhost:8080/"
        },
        "outputId": "dee0d61c-8fcf-4913-9ff1-5b5ad04ab9c2",
        "id": "M5lmafkwdRWQ"
      },
      "source": [
        "msg = \"machine learning is sooo cool!\"\n",
        "ch_tokens = []\n",
        "\n",
        "for character in msg:\n",
        "  ch_tokens.append(torch.tensor(text_field.vocab.stoi[character]))\n",
        "\n",
        "all_tokens = torch.LongTensor([ch_tokens])\n",
        "\n",
        "prediction = best_model(all_tokens)\n",
        "prob = F.softmax(prediction, dim=1)\n",
        "prob_precent=round(float(prob[0][1]*100),5)\n",
        "print('Probability that the SMS is spam:',prob_precent,'%')"
      ],
      "execution_count": 37,
      "outputs": [
        {
          "output_type": "stream",
          "name": "stdout",
          "text": [
            "Probability that the SMS is spam: 6.47826 %\n"
          ]
        }
      ]
    },
    {
      "cell_type": "markdown",
      "metadata": {
        "id": "QD1zgYJpa91f"
      },
      "source": [
        "### Part (d) [2 pt]\n",
        "\n",
        "Do you think detecting spam is an easy or difficult task?\n",
        "\n",
        "Since machine learning models are expensive to train and deploy, it is very\n",
        "important to compare our models against baseline models: a simple\n",
        "model that is easy to build and inexpensive to run that we can compare our\n",
        "recurrent neural network model against.\n",
        "\n",
        "Explain how you might build a simple baseline model. This baseline model\n",
        "can be a simple neural network (with very few weights), a hand-written algorithm,\n",
        "or any other strategy that is easy to build and test.\n",
        "\n",
        "**Do not actually build a baseline model. Instead, provide instructions on\n",
        "how to build it.**"
      ]
    },
    {
      "cell_type": "markdown",
      "source": [
        "**Answer:**\n",
        "\n",
        "There are several algorithms that can be used to detect spam and although they may not have a very low false positive and flase negative rate, they are easy to build and give moderate performance. Spam messages is a widespread problem and one of the most common tasks in Natural Language Processing. There is extensive research conducted in this field by top-tech giants resulting in some advanced spam blocking engines that have really good performance. Therefore, at this point, spam detection is an easy task as compared to other state-of-the-art topics like text/image generation, speech recognition etc which need complex DL techniques for decent performance. \n",
        "\n",
        "Various popular classification algorithms like Naive Bayes, SVM and Multi-Layer Percepton(MLP) can be used for this. The steps for building a Naive Bayes(supervised learning) can be summarised as follows:\n",
        "- The SMS are vectorised and split into train and test sets\n",
        "- The Naive Bayes classifier model is defined using the library available in sklearn.\n",
        "- The model is then fit on the train data and learns the joint probability distributions for the train data.\n",
        "- The model then make predictions on test data."
      ],
      "metadata": {
        "id": "6iK_g_rKJnzw"
      }
    },
    {
      "cell_type": "markdown",
      "metadata": {
        "id": "zIR3Q5l0v1HP"
      },
      "source": [
        "# PART B - Transfer Learning [20 pt]\n",
        "\n",
        "In this part we will compare our earlier model with one that takes advantage of a generative RNN model to improve the prediction. There are several ways to implement transfer learning with RNNs, here we will use an approach known as ULMFiT developed by fastai. Rather than rebuilding the model from scratch, we will take advantage of the fastai library.\n",
        "\n",
        "Provided below is some helper code to get you started.\n",
        "\n",
        "#### Helper Code"
      ]
    },
    {
      "cell_type": "code",
      "source": [
        "!pip install fastai==1.0.61"
      ],
      "metadata": {
        "id": "Ai3pBfl3ZNff"
      },
      "execution_count": null,
      "outputs": []
    },
    {
      "cell_type": "code",
      "source": [
        "!pip install -U spacy==2.3.5"
      ],
      "metadata": {
        "colab": {
          "base_uri": "https://localhost:8080/"
        },
        "id": "cCcQpWI0d1Sw",
        "outputId": "365fab65-07b0-40cc-aa78-f83260fa472b"
      },
      "execution_count": 1,
      "outputs": [
        {
          "output_type": "stream",
          "name": "stdout",
          "text": [
            "Looking in indexes: https://pypi.org/simple, https://us-python.pkg.dev/colab-wheels/public/simple/\n",
            "Requirement already satisfied: spacy==2.3.5 in /usr/local/lib/python3.7/dist-packages (2.3.5)\n",
            "Requirement already satisfied: srsly<1.1.0,>=1.0.2 in /usr/local/lib/python3.7/dist-packages (from spacy==2.3.5) (1.0.6)\n",
            "Requirement already satisfied: preshed<3.1.0,>=3.0.2 in /usr/local/lib/python3.7/dist-packages (from spacy==2.3.5) (3.0.8)\n",
            "Requirement already satisfied: cymem<2.1.0,>=2.0.2 in /usr/local/lib/python3.7/dist-packages (from spacy==2.3.5) (2.0.7)\n",
            "Requirement already satisfied: numpy>=1.15.0 in /usr/local/lib/python3.7/dist-packages (from spacy==2.3.5) (1.21.6)\n",
            "Requirement already satisfied: catalogue<1.1.0,>=0.0.7 in /usr/local/lib/python3.7/dist-packages (from spacy==2.3.5) (1.0.2)\n",
            "Requirement already satisfied: tqdm<5.0.0,>=4.38.0 in /usr/local/lib/python3.7/dist-packages (from spacy==2.3.5) (4.64.1)\n",
            "Requirement already satisfied: requests<3.0.0,>=2.13.0 in /usr/local/lib/python3.7/dist-packages (from spacy==2.3.5) (2.23.0)\n",
            "Requirement already satisfied: blis<0.8.0,>=0.4.0 in /usr/local/lib/python3.7/dist-packages (from spacy==2.3.5) (0.7.9)\n",
            "Requirement already satisfied: setuptools in /usr/local/lib/python3.7/dist-packages (from spacy==2.3.5) (57.4.0)\n",
            "Requirement already satisfied: wasabi<1.1.0,>=0.4.0 in /usr/local/lib/python3.7/dist-packages (from spacy==2.3.5) (0.10.1)\n",
            "Requirement already satisfied: plac<1.2.0,>=0.9.6 in /usr/local/lib/python3.7/dist-packages (from spacy==2.3.5) (1.1.3)\n",
            "Requirement already satisfied: thinc<7.5.0,>=7.4.1 in /usr/local/lib/python3.7/dist-packages (from spacy==2.3.5) (7.4.6)\n",
            "Requirement already satisfied: murmurhash<1.1.0,>=0.28.0 in /usr/local/lib/python3.7/dist-packages (from spacy==2.3.5) (1.0.9)\n",
            "Requirement already satisfied: zipp>=0.5 in /usr/local/lib/python3.7/dist-packages (from catalogue<1.1.0,>=0.0.7->spacy==2.3.5) (3.10.0)\n",
            "Requirement already satisfied: typing-extensions>=3.6.4 in /usr/local/lib/python3.7/dist-packages (from catalogue<1.1.0,>=0.0.7->spacy==2.3.5) (4.1.1)\n",
            "Requirement already satisfied: chardet<4,>=3.0.2 in /usr/local/lib/python3.7/dist-packages (from requests<3.0.0,>=2.13.0->spacy==2.3.5) (3.0.4)\n",
            "Requirement already satisfied: certifi>=2017.4.17 in /usr/local/lib/python3.7/dist-packages (from requests<3.0.0,>=2.13.0->spacy==2.3.5) (2022.9.24)\n",
            "Requirement already satisfied: urllib3!=1.25.0,!=1.25.1,<1.26,>=1.21.1 in /usr/local/lib/python3.7/dist-packages (from requests<3.0.0,>=2.13.0->spacy==2.3.5) (1.24.3)\n",
            "Requirement already satisfied: idna<3,>=2.5 in /usr/local/lib/python3.7/dist-packages (from requests<3.0.0,>=2.13.0->spacy==2.3.5) (2.10)\n"
          ]
        }
      ]
    },
    {
      "cell_type": "code",
      "metadata": {
        "id": "316Xs5WBv0kg"
      },
      "source": [
        "# load relevant libraries\n",
        "from fastai import * \n",
        "import pandas as pd\n",
        "import numpy as np\n",
        "from functools import partial\n",
        "import io\n",
        "import os\n",
        "from fastai.text import *"
      ],
      "execution_count": 2,
      "outputs": []
    },
    {
      "cell_type": "code",
      "metadata": {
        "id": "MfoKX8tKAU4Q",
        "colab": {
          "base_uri": "https://localhost:8080/"
        },
        "outputId": "779a8d3b-fd3f-4168-f876-cb87c137a768"
      },
      "source": [
        "# download SPAM data\n",
        "!wget https://archive.ics.uci.edu/ml/machine-learning-databases/00228/smsspamcollection.zip\n",
        "!unzip smsspamcollection.zip"
      ],
      "execution_count": 3,
      "outputs": [
        {
          "output_type": "stream",
          "name": "stdout",
          "text": [
            "--2022-11-21 00:20:19--  https://archive.ics.uci.edu/ml/machine-learning-databases/00228/smsspamcollection.zip\n",
            "Resolving archive.ics.uci.edu (archive.ics.uci.edu)... 128.195.10.252\n",
            "Connecting to archive.ics.uci.edu (archive.ics.uci.edu)|128.195.10.252|:443... connected.\n",
            "HTTP request sent, awaiting response... 200 OK\n",
            "Length: 203415 (199K) [application/x-httpd-php]\n",
            "Saving to: ‘smsspamcollection.zip.4’\n",
            "\n",
            "smsspamcollection.z 100%[===================>] 198.65K   304KB/s    in 0.7s    \n",
            "\n",
            "2022-11-21 00:20:20 (304 KB/s) - ‘smsspamcollection.zip.4’ saved [203415/203415]\n",
            "\n",
            "Archive:  smsspamcollection.zip\n",
            "replace SMSSpamCollection? [y]es, [n]o, [A]ll, [N]one, [r]ename: "
          ]
        }
      ]
    },
    {
      "cell_type": "markdown",
      "metadata": {
        "id": "J4vSv4Z9QxTJ"
      },
      "source": [
        "This time we will load the data using pandas."
      ]
    },
    {
      "cell_type": "code",
      "metadata": {
        "id": "RKPhLwlhAbv-",
        "colab": {
          "base_uri": "https://localhost:8080/",
          "height": 206
        },
        "outputId": "4b929e8d-d265-4398-b9a1-4987706d4d09"
      },
      "source": [
        "# set up data and verify\n",
        "df1 = pd.read_csv('SMSSpamCollection', sep='\\t',  header=None, names=['target', 'text'])\n",
        "df1.head()"
      ],
      "execution_count": 4,
      "outputs": [
        {
          "output_type": "execute_result",
          "data": {
            "text/plain": [
              "  target                                               text\n",
              "0    ham  Go until jurong point, crazy.. Available only ...\n",
              "1    ham                      Ok lar... Joking wif u oni...\n",
              "2   spam  Free entry in 2 a wkly comp to win FA Cup fina...\n",
              "3    ham  U dun say so early hor... U c already then say...\n",
              "4    ham  Nah I don't think he goes to usf, he lives aro..."
            ],
            "text/html": [
              "\n",
              "  <div id=\"df-629dcc9a-0202-4ba8-b117-8149a5b5b090\">\n",
              "    <div class=\"colab-df-container\">\n",
              "      <div>\n",
              "<style scoped>\n",
              "    .dataframe tbody tr th:only-of-type {\n",
              "        vertical-align: middle;\n",
              "    }\n",
              "\n",
              "    .dataframe tbody tr th {\n",
              "        vertical-align: top;\n",
              "    }\n",
              "\n",
              "    .dataframe thead th {\n",
              "        text-align: right;\n",
              "    }\n",
              "</style>\n",
              "<table border=\"1\" class=\"dataframe\">\n",
              "  <thead>\n",
              "    <tr style=\"text-align: right;\">\n",
              "      <th></th>\n",
              "      <th>target</th>\n",
              "      <th>text</th>\n",
              "    </tr>\n",
              "  </thead>\n",
              "  <tbody>\n",
              "    <tr>\n",
              "      <th>0</th>\n",
              "      <td>ham</td>\n",
              "      <td>Go until jurong point, crazy.. Available only ...</td>\n",
              "    </tr>\n",
              "    <tr>\n",
              "      <th>1</th>\n",
              "      <td>ham</td>\n",
              "      <td>Ok lar... Joking wif u oni...</td>\n",
              "    </tr>\n",
              "    <tr>\n",
              "      <th>2</th>\n",
              "      <td>spam</td>\n",
              "      <td>Free entry in 2 a wkly comp to win FA Cup fina...</td>\n",
              "    </tr>\n",
              "    <tr>\n",
              "      <th>3</th>\n",
              "      <td>ham</td>\n",
              "      <td>U dun say so early hor... U c already then say...</td>\n",
              "    </tr>\n",
              "    <tr>\n",
              "      <th>4</th>\n",
              "      <td>ham</td>\n",
              "      <td>Nah I don't think he goes to usf, he lives aro...</td>\n",
              "    </tr>\n",
              "  </tbody>\n",
              "</table>\n",
              "</div>\n",
              "      <button class=\"colab-df-convert\" onclick=\"convertToInteractive('df-629dcc9a-0202-4ba8-b117-8149a5b5b090')\"\n",
              "              title=\"Convert this dataframe to an interactive table.\"\n",
              "              style=\"display:none;\">\n",
              "        \n",
              "  <svg xmlns=\"http://www.w3.org/2000/svg\" height=\"24px\"viewBox=\"0 0 24 24\"\n",
              "       width=\"24px\">\n",
              "    <path d=\"M0 0h24v24H0V0z\" fill=\"none\"/>\n",
              "    <path d=\"M18.56 5.44l.94 2.06.94-2.06 2.06-.94-2.06-.94-.94-2.06-.94 2.06-2.06.94zm-11 1L8.5 8.5l.94-2.06 2.06-.94-2.06-.94L8.5 2.5l-.94 2.06-2.06.94zm10 10l.94 2.06.94-2.06 2.06-.94-2.06-.94-.94-2.06-.94 2.06-2.06.94z\"/><path d=\"M17.41 7.96l-1.37-1.37c-.4-.4-.92-.59-1.43-.59-.52 0-1.04.2-1.43.59L10.3 9.45l-7.72 7.72c-.78.78-.78 2.05 0 2.83L4 21.41c.39.39.9.59 1.41.59.51 0 1.02-.2 1.41-.59l7.78-7.78 2.81-2.81c.8-.78.8-2.07 0-2.86zM5.41 20L4 18.59l7.72-7.72 1.47 1.35L5.41 20z\"/>\n",
              "  </svg>\n",
              "      </button>\n",
              "      \n",
              "  <style>\n",
              "    .colab-df-container {\n",
              "      display:flex;\n",
              "      flex-wrap:wrap;\n",
              "      gap: 12px;\n",
              "    }\n",
              "\n",
              "    .colab-df-convert {\n",
              "      background-color: #E8F0FE;\n",
              "      border: none;\n",
              "      border-radius: 50%;\n",
              "      cursor: pointer;\n",
              "      display: none;\n",
              "      fill: #1967D2;\n",
              "      height: 32px;\n",
              "      padding: 0 0 0 0;\n",
              "      width: 32px;\n",
              "    }\n",
              "\n",
              "    .colab-df-convert:hover {\n",
              "      background-color: #E2EBFA;\n",
              "      box-shadow: 0px 1px 2px rgba(60, 64, 67, 0.3), 0px 1px 3px 1px rgba(60, 64, 67, 0.15);\n",
              "      fill: #174EA6;\n",
              "    }\n",
              "\n",
              "    [theme=dark] .colab-df-convert {\n",
              "      background-color: #3B4455;\n",
              "      fill: #D2E3FC;\n",
              "    }\n",
              "\n",
              "    [theme=dark] .colab-df-convert:hover {\n",
              "      background-color: #434B5C;\n",
              "      box-shadow: 0px 1px 3px 1px rgba(0, 0, 0, 0.15);\n",
              "      filter: drop-shadow(0px 1px 2px rgba(0, 0, 0, 0.3));\n",
              "      fill: #FFFFFF;\n",
              "    }\n",
              "  </style>\n",
              "\n",
              "      <script>\n",
              "        const buttonEl =\n",
              "          document.querySelector('#df-629dcc9a-0202-4ba8-b117-8149a5b5b090 button.colab-df-convert');\n",
              "        buttonEl.style.display =\n",
              "          google.colab.kernel.accessAllowed ? 'block' : 'none';\n",
              "\n",
              "        async function convertToInteractive(key) {\n",
              "          const element = document.querySelector('#df-629dcc9a-0202-4ba8-b117-8149a5b5b090');\n",
              "          const dataTable =\n",
              "            await google.colab.kernel.invokeFunction('convertToInteractive',\n",
              "                                                     [key], {});\n",
              "          if (!dataTable) return;\n",
              "\n",
              "          const docLinkHtml = 'Like what you see? Visit the ' +\n",
              "            '<a target=\"_blank\" href=https://colab.research.google.com/notebooks/data_table.ipynb>data table notebook</a>'\n",
              "            + ' to learn more about interactive tables.';\n",
              "          element.innerHTML = '';\n",
              "          dataTable['output_type'] = 'display_data';\n",
              "          await google.colab.output.renderOutput(dataTable, element);\n",
              "          const docLink = document.createElement('div');\n",
              "          docLink.innerHTML = docLinkHtml;\n",
              "          element.appendChild(docLink);\n",
              "        }\n",
              "      </script>\n",
              "    </div>\n",
              "  </div>\n",
              "  "
            ]
          },
          "metadata": {},
          "execution_count": 4
        }
      ]
    },
    {
      "cell_type": "code",
      "metadata": {
        "id": "rorC2T1yAfWY",
        "colab": {
          "base_uri": "https://localhost:8080/"
        },
        "outputId": "2336ff2b-3581-4c89-92fd-64d8bfbd3329"
      },
      "source": [
        "# check distribution\n",
        "df1['target'].value_counts()"
      ],
      "execution_count": 5,
      "outputs": [
        {
          "output_type": "execute_result",
          "data": {
            "text/plain": [
              "ham     4825\n",
              "spam     747\n",
              "Name: target, dtype: int64"
            ]
          },
          "metadata": {},
          "execution_count": 5
        }
      ]
    },
    {
      "cell_type": "markdown",
      "metadata": {
        "id": "snNazefHQ3yo"
      },
      "source": [
        "Split the data into training and validation datasets."
      ]
    },
    {
      "cell_type": "code",
      "metadata": {
        "id": "i4WuVTDhArhc"
      },
      "source": [
        "# split the data and check dimensions\n",
        "\n",
        "from sklearn.model_selection import train_test_split\n",
        "\n",
        "# split data into training and validation set\n",
        "df_trn, df_val = train_test_split(df1, stratify = df1['target'], test_size = 0.3, random_state = 999)"
      ],
      "execution_count": 6,
      "outputs": []
    },
    {
      "cell_type": "code",
      "metadata": {
        "colab": {
          "base_uri": "https://localhost:8080/"
        },
        "id": "uyCkDbTRAyxk",
        "outputId": "a7d4e180-dd24-4391-a0c5-765003c0e2ba"
      },
      "source": [
        "df_trn.shape, df_val.shape"
      ],
      "execution_count": null,
      "outputs": [
        {
          "output_type": "execute_result",
          "data": {
            "text/plain": [
              "((3900, 2), (1672, 2))"
            ]
          },
          "metadata": {},
          "execution_count": 5
        }
      ]
    },
    {
      "cell_type": "markdown",
      "metadata": {
        "id": "kuGx5mebBfEm"
      },
      "source": [
        "### Create the language model\n",
        "Esentially, the language model contains the structure of the language (English in this case), allowing us to quickly use in a classification model, skipping the part of learning the semantics of the language from scratch.\n",
        "\n",
        "Creating a language model from scratch can be intensive due to the sheer size of data. Instead we will download the pre-trained model, which is a neural network (NN) with an AWD_LSTM architecture. By setting pretrained = True we say to fastai to download the weights from the trained model (a corpus of 103 MM of wikipedia articles)."
      ]
    },
    {
      "cell_type": "code",
      "metadata": {
        "colab": {
          "base_uri": "https://localhost:8080/",
          "height": 72
        },
        "outputId": "59839c1f-a126-4e89-a4ac-88c0ba8b7c98",
        "id": "dGcG6unUXywL"
      },
      "source": [
        "# create pretrained language model data\n",
        "data_lm = TextLMDataBunch.from_df(train_df = df_trn, valid_df = df_val, path = \"\")\n",
        "lang_mod = language_model_learner(data_lm,  arch = AWD_LSTM, pretrained = True, drop_mult=1.)"
      ],
      "execution_count": 7,
      "outputs": [
        {
          "output_type": "display_data",
          "data": {
            "text/plain": [
              "<IPython.core.display.HTML object>"
            ],
            "text/html": [
              "\n",
              "<style>\n",
              "    /* Turns off some styling */\n",
              "    progress {\n",
              "        /* gets rid of default border in Firefox and Opera. */\n",
              "        border: none;\n",
              "        /* Needs to be in here for Safari polyfill so background images work as expected. */\n",
              "        background-size: auto;\n",
              "    }\n",
              "    progress:not([value]), progress:not([value])::-webkit-progress-bar {\n",
              "        background: repeating-linear-gradient(45deg, #7e7e7e, #7e7e7e 10px, #5c5c5c 10px, #5c5c5c 20px);\n",
              "    }\n",
              "    .progress-bar-interrupted, .progress-bar-interrupted::-webkit-progress-bar {\n",
              "        background: #F44336;\n",
              "    }\n",
              "</style>\n"
            ]
          },
          "metadata": {}
        },
        {
          "output_type": "display_data",
          "data": {
            "text/plain": [
              "<IPython.core.display.HTML object>"
            ],
            "text/html": []
          },
          "metadata": {}
        },
        {
          "output_type": "stream",
          "name": "stderr",
          "text": [
            "/usr/local/lib/python3.7/dist-packages/fastai/core.py:302: VisibleDeprecationWarning: Creating an ndarray from ragged nested sequences (which is a list-or-tuple of lists-or-tuples-or ndarrays with different lengths or shapes) is deprecated. If you meant to do this, you must specify 'dtype=object' when creating the ndarray.\n",
            "  return np.array(a, dtype=dtype, **kwargs)\n"
          ]
        },
        {
          "output_type": "display_data",
          "data": {
            "text/plain": [
              "<IPython.core.display.HTML object>"
            ],
            "text/html": [
              "\n",
              "<style>\n",
              "    /* Turns off some styling */\n",
              "    progress {\n",
              "        /* gets rid of default border in Firefox and Opera. */\n",
              "        border: none;\n",
              "        /* Needs to be in here for Safari polyfill so background images work as expected. */\n",
              "        background-size: auto;\n",
              "    }\n",
              "    progress:not([value]), progress:not([value])::-webkit-progress-bar {\n",
              "        background: repeating-linear-gradient(45deg, #7e7e7e, #7e7e7e 10px, #5c5c5c 10px, #5c5c5c 20px);\n",
              "    }\n",
              "    .progress-bar-interrupted, .progress-bar-interrupted::-webkit-progress-bar {\n",
              "        background: #F44336;\n",
              "    }\n",
              "</style>\n"
            ]
          },
          "metadata": {}
        },
        {
          "output_type": "display_data",
          "data": {
            "text/plain": [
              "<IPython.core.display.HTML object>"
            ],
            "text/html": []
          },
          "metadata": {}
        }
      ]
    },
    {
      "cell_type": "markdown",
      "metadata": {
        "id": "lT_aVqCRB8DJ"
      },
      "source": [
        "### Testing the language model\n"
      ]
    },
    {
      "cell_type": "code",
      "metadata": {
        "id": "PlZgAMGbCZXY",
        "colab": {
          "base_uri": "https://localhost:8080/"
        },
        "outputId": "c8758364-8a0f-443f-aea7-b69bd4c7138d"
      },
      "source": [
        "for i in range(5):\n",
        "  print(lang_mod.predict(\"The problem usually starts when\", n_words=10))"
      ],
      "execution_count": 8,
      "outputs": [
        {
          "output_type": "stream",
          "name": "stdout",
          "text": [
            "The problem usually starts when a bat is dropped by another character in a series\n",
            "The problem usually starts when someone or someone runs out of food or leaves the\n",
            "The problem usually starts when a question line or one is fill , because the\n",
            "The problem usually starts when an escape cafe is set clean , but then change\n",
            "The problem usually starts when there is no time for doing so , as there\n"
          ]
        }
      ]
    },
    {
      "cell_type": "markdown",
      "metadata": {
        "id": "8-9pK9cTCmFP"
      },
      "source": [
        "Each time we excecute the `predict`, we get a different random sentence, completed with the number of choosen words (`n_words`).\n",
        "\n",
        "Try your own sentences!"
      ]
    },
    {
      "cell_type": "code",
      "source": [
        "for i in range(5):\n",
        "  print(lang_mod.predict(\"The student did well because\", n_words=10))"
      ],
      "metadata": {
        "colab": {
          "base_uri": "https://localhost:8080/"
        },
        "id": "l_Gkryb9-d_k",
        "outputId": "e7ba5d6d-26c2-44b7-8c9c-6589daee1a25"
      },
      "execution_count": 9,
      "outputs": [
        {
          "output_type": "stream",
          "name": "stdout",
          "text": [
            "The student did well because the East Bank in London , where\n",
            "The student did well because of its children 's connection to age and alive .\n",
            "The student did well because of its simple \" - place \" name , which\n",
            "The student did well because they saw God billion , but two small numbers\n",
            "The student did well because of the center 's weight , and the use of\n"
          ]
        }
      ]
    },
    {
      "cell_type": "markdown",
      "metadata": {
        "id": "Q8-HUwNYCqSO"
      },
      "source": [
        "### Fine-tuning the language model\n",
        "The language model that we have \"loaded\" is great for generating wikipedia-like sentances, but here we're more interested in generating data like our email dataset. \n",
        "\n",
        "Make sure to enable GPU for this step or it make takes several hours to train."
      ]
    },
    {
      "cell_type": "code",
      "metadata": {
        "id": "2Z6lG13vRnbo",
        "colab": {
          "base_uri": "https://localhost:8080/",
          "height": 554
        },
        "outputId": "1ec40114-d507-4dfd-b4e0-5cc14882d521"
      },
      "source": [
        "# fine-tune language model data\n",
        "lang_mod.fit_one_cycle(4, max_lr= 5e-02)\n",
        "lang_mod.freeze_to(-1)\n",
        "lang_mod.fit_one_cycle(3, slice(1e-2/(2.6**4), 1e-2))\n",
        "lang_mod.freeze_to(-2)\n",
        "lang_mod.fit_one_cycle(3, slice(3e-3/(2.6**4), 1e-3))\n",
        "lang_mod.unfreeze()\n",
        "lang_mod.fit_one_cycle(3, slice(3e-3/(2.6**4), 1e-3))\n",
        "\n",
        "# save language model\n",
        "lang_mod.save_encoder('my_awsome_encoder')"
      ],
      "execution_count": 10,
      "outputs": [
        {
          "output_type": "display_data",
          "data": {
            "text/plain": [
              "<IPython.core.display.HTML object>"
            ],
            "text/html": [
              "\n",
              "<style>\n",
              "    /* Turns off some styling */\n",
              "    progress {\n",
              "        /* gets rid of default border in Firefox and Opera. */\n",
              "        border: none;\n",
              "        /* Needs to be in here for Safari polyfill so background images work as expected. */\n",
              "        background-size: auto;\n",
              "    }\n",
              "    progress:not([value]), progress:not([value])::-webkit-progress-bar {\n",
              "        background: repeating-linear-gradient(45deg, #7e7e7e, #7e7e7e 10px, #5c5c5c 10px, #5c5c5c 20px);\n",
              "    }\n",
              "    .progress-bar-interrupted, .progress-bar-interrupted::-webkit-progress-bar {\n",
              "        background: #F44336;\n",
              "    }\n",
              "</style>\n"
            ]
          },
          "metadata": {}
        },
        {
          "output_type": "display_data",
          "data": {
            "text/plain": [
              "<IPython.core.display.HTML object>"
            ],
            "text/html": [
              "<table border=\"1\" class=\"dataframe\">\n",
              "  <thead>\n",
              "    <tr style=\"text-align: left;\">\n",
              "      <th>epoch</th>\n",
              "      <th>train_loss</th>\n",
              "      <th>valid_loss</th>\n",
              "      <th>accuracy</th>\n",
              "      <th>time</th>\n",
              "    </tr>\n",
              "  </thead>\n",
              "  <tbody>\n",
              "    <tr>\n",
              "      <td>0</td>\n",
              "      <td>5.582067</td>\n",
              "      <td>3.898833</td>\n",
              "      <td>0.271429</td>\n",
              "      <td>00:02</td>\n",
              "    </tr>\n",
              "    <tr>\n",
              "      <td>1</td>\n",
              "      <td>4.854765</td>\n",
              "      <td>3.959996</td>\n",
              "      <td>0.271429</td>\n",
              "      <td>00:02</td>\n",
              "    </tr>\n",
              "    <tr>\n",
              "      <td>2</td>\n",
              "      <td>4.396543</td>\n",
              "      <td>3.841180</td>\n",
              "      <td>0.257143</td>\n",
              "      <td>00:02</td>\n",
              "    </tr>\n",
              "    <tr>\n",
              "      <td>3</td>\n",
              "      <td>4.069307</td>\n",
              "      <td>3.855830</td>\n",
              "      <td>0.271429</td>\n",
              "      <td>00:02</td>\n",
              "    </tr>\n",
              "  </tbody>\n",
              "</table>"
            ]
          },
          "metadata": {}
        },
        {
          "output_type": "display_data",
          "data": {
            "text/plain": [
              "<IPython.core.display.HTML object>"
            ],
            "text/html": [
              "\n",
              "<style>\n",
              "    /* Turns off some styling */\n",
              "    progress {\n",
              "        /* gets rid of default border in Firefox and Opera. */\n",
              "        border: none;\n",
              "        /* Needs to be in here for Safari polyfill so background images work as expected. */\n",
              "        background-size: auto;\n",
              "    }\n",
              "    progress:not([value]), progress:not([value])::-webkit-progress-bar {\n",
              "        background: repeating-linear-gradient(45deg, #7e7e7e, #7e7e7e 10px, #5c5c5c 10px, #5c5c5c 20px);\n",
              "    }\n",
              "    .progress-bar-interrupted, .progress-bar-interrupted::-webkit-progress-bar {\n",
              "        background: #F44336;\n",
              "    }\n",
              "</style>\n"
            ]
          },
          "metadata": {}
        },
        {
          "output_type": "display_data",
          "data": {
            "text/plain": [
              "<IPython.core.display.HTML object>"
            ],
            "text/html": [
              "<table border=\"1\" class=\"dataframe\">\n",
              "  <thead>\n",
              "    <tr style=\"text-align: left;\">\n",
              "      <th>epoch</th>\n",
              "      <th>train_loss</th>\n",
              "      <th>valid_loss</th>\n",
              "      <th>accuracy</th>\n",
              "      <th>time</th>\n",
              "    </tr>\n",
              "  </thead>\n",
              "  <tbody>\n",
              "    <tr>\n",
              "      <td>0</td>\n",
              "      <td>3.573458</td>\n",
              "      <td>3.779907</td>\n",
              "      <td>0.271429</td>\n",
              "      <td>00:02</td>\n",
              "    </tr>\n",
              "    <tr>\n",
              "      <td>1</td>\n",
              "      <td>3.534193</td>\n",
              "      <td>3.707488</td>\n",
              "      <td>0.257143</td>\n",
              "      <td>00:02</td>\n",
              "    </tr>\n",
              "    <tr>\n",
              "      <td>2</td>\n",
              "      <td>3.487144</td>\n",
              "      <td>3.696584</td>\n",
              "      <td>0.257143</td>\n",
              "      <td>00:02</td>\n",
              "    </tr>\n",
              "  </tbody>\n",
              "</table>"
            ]
          },
          "metadata": {}
        },
        {
          "output_type": "display_data",
          "data": {
            "text/plain": [
              "<IPython.core.display.HTML object>"
            ],
            "text/html": [
              "\n",
              "<style>\n",
              "    /* Turns off some styling */\n",
              "    progress {\n",
              "        /* gets rid of default border in Firefox and Opera. */\n",
              "        border: none;\n",
              "        /* Needs to be in here for Safari polyfill so background images work as expected. */\n",
              "        background-size: auto;\n",
              "    }\n",
              "    progress:not([value]), progress:not([value])::-webkit-progress-bar {\n",
              "        background: repeating-linear-gradient(45deg, #7e7e7e, #7e7e7e 10px, #5c5c5c 10px, #5c5c5c 20px);\n",
              "    }\n",
              "    .progress-bar-interrupted, .progress-bar-interrupted::-webkit-progress-bar {\n",
              "        background: #F44336;\n",
              "    }\n",
              "</style>\n"
            ]
          },
          "metadata": {}
        },
        {
          "output_type": "display_data",
          "data": {
            "text/plain": [
              "<IPython.core.display.HTML object>"
            ],
            "text/html": [
              "<table border=\"1\" class=\"dataframe\">\n",
              "  <thead>\n",
              "    <tr style=\"text-align: left;\">\n",
              "      <th>epoch</th>\n",
              "      <th>train_loss</th>\n",
              "      <th>valid_loss</th>\n",
              "      <th>accuracy</th>\n",
              "      <th>time</th>\n",
              "    </tr>\n",
              "  </thead>\n",
              "  <tbody>\n",
              "    <tr>\n",
              "      <td>0</td>\n",
              "      <td>3.383816</td>\n",
              "      <td>3.694176</td>\n",
              "      <td>0.271429</td>\n",
              "      <td>00:02</td>\n",
              "    </tr>\n",
              "    <tr>\n",
              "      <td>1</td>\n",
              "      <td>3.368413</td>\n",
              "      <td>3.685179</td>\n",
              "      <td>0.257143</td>\n",
              "      <td>00:02</td>\n",
              "    </tr>\n",
              "    <tr>\n",
              "      <td>2</td>\n",
              "      <td>3.353456</td>\n",
              "      <td>3.682620</td>\n",
              "      <td>0.257143</td>\n",
              "      <td>00:02</td>\n",
              "    </tr>\n",
              "  </tbody>\n",
              "</table>"
            ]
          },
          "metadata": {}
        },
        {
          "output_type": "display_data",
          "data": {
            "text/plain": [
              "<IPython.core.display.HTML object>"
            ],
            "text/html": [
              "\n",
              "<style>\n",
              "    /* Turns off some styling */\n",
              "    progress {\n",
              "        /* gets rid of default border in Firefox and Opera. */\n",
              "        border: none;\n",
              "        /* Needs to be in here for Safari polyfill so background images work as expected. */\n",
              "        background-size: auto;\n",
              "    }\n",
              "    progress:not([value]), progress:not([value])::-webkit-progress-bar {\n",
              "        background: repeating-linear-gradient(45deg, #7e7e7e, #7e7e7e 10px, #5c5c5c 10px, #5c5c5c 20px);\n",
              "    }\n",
              "    .progress-bar-interrupted, .progress-bar-interrupted::-webkit-progress-bar {\n",
              "        background: #F44336;\n",
              "    }\n",
              "</style>\n"
            ]
          },
          "metadata": {}
        },
        {
          "output_type": "display_data",
          "data": {
            "text/plain": [
              "<IPython.core.display.HTML object>"
            ],
            "text/html": [
              "<table border=\"1\" class=\"dataframe\">\n",
              "  <thead>\n",
              "    <tr style=\"text-align: left;\">\n",
              "      <th>epoch</th>\n",
              "      <th>train_loss</th>\n",
              "      <th>valid_loss</th>\n",
              "      <th>accuracy</th>\n",
              "      <th>time</th>\n",
              "    </tr>\n",
              "  </thead>\n",
              "  <tbody>\n",
              "    <tr>\n",
              "      <td>0</td>\n",
              "      <td>3.323679</td>\n",
              "      <td>3.697419</td>\n",
              "      <td>0.257143</td>\n",
              "      <td>00:04</td>\n",
              "    </tr>\n",
              "    <tr>\n",
              "      <td>1</td>\n",
              "      <td>3.288547</td>\n",
              "      <td>3.675353</td>\n",
              "      <td>0.285714</td>\n",
              "      <td>00:04</td>\n",
              "    </tr>\n",
              "    <tr>\n",
              "      <td>2</td>\n",
              "      <td>3.253368</td>\n",
              "      <td>3.664379</td>\n",
              "      <td>0.285714</td>\n",
              "      <td>00:04</td>\n",
              "    </tr>\n",
              "  </tbody>\n",
              "</table>"
            ]
          },
          "metadata": {}
        }
      ]
    },
    {
      "cell_type": "markdown",
      "metadata": {
        "id": "KT-Y6pB1SrGg"
      },
      "source": [
        "### Classification model\n",
        "Now we can train a classification model that will identify spam and non-spam messages. Since we used a fastai language model, it will be easier to just continue working with the fastai library."
      ]
    },
    {
      "cell_type": "code",
      "metadata": {
        "id": "MIvfaeOfTDZV",
        "colab": {
          "base_uri": "https://localhost:8080/",
          "height": 124
        },
        "outputId": "983fdc74-8c22-4c4b-d29a-c270a2a3999b"
      },
      "source": [
        "# Classifier model data\n",
        "data_clas = TextClasDataBunch.from_df(path = \"\", train_df = df_trn,  valid_df = df_val, vocab=data_lm.train_ds.vocab, bs=32)"
      ],
      "execution_count": 11,
      "outputs": [
        {
          "output_type": "display_data",
          "data": {
            "text/plain": [
              "<IPython.core.display.HTML object>"
            ],
            "text/html": [
              "\n",
              "<style>\n",
              "    /* Turns off some styling */\n",
              "    progress {\n",
              "        /* gets rid of default border in Firefox and Opera. */\n",
              "        border: none;\n",
              "        /* Needs to be in here for Safari polyfill so background images work as expected. */\n",
              "        background-size: auto;\n",
              "    }\n",
              "    progress:not([value]), progress:not([value])::-webkit-progress-bar {\n",
              "        background: repeating-linear-gradient(45deg, #7e7e7e, #7e7e7e 10px, #5c5c5c 10px, #5c5c5c 20px);\n",
              "    }\n",
              "    .progress-bar-interrupted, .progress-bar-interrupted::-webkit-progress-bar {\n",
              "        background: #F44336;\n",
              "    }\n",
              "</style>\n"
            ]
          },
          "metadata": {}
        },
        {
          "output_type": "display_data",
          "data": {
            "text/plain": [
              "<IPython.core.display.HTML object>"
            ],
            "text/html": []
          },
          "metadata": {}
        },
        {
          "output_type": "stream",
          "name": "stderr",
          "text": [
            "/usr/local/lib/python3.7/dist-packages/fastai/core.py:302: VisibleDeprecationWarning: Creating an ndarray from ragged nested sequences (which is a list-or-tuple of lists-or-tuples-or ndarrays with different lengths or shapes) is deprecated. If you meant to do this, you must specify 'dtype=object' when creating the ndarray.\n",
            "  return np.array(a, dtype=dtype, **kwargs)\n"
          ]
        },
        {
          "output_type": "display_data",
          "data": {
            "text/plain": [
              "<IPython.core.display.HTML object>"
            ],
            "text/html": [
              "\n",
              "<style>\n",
              "    /* Turns off some styling */\n",
              "    progress {\n",
              "        /* gets rid of default border in Firefox and Opera. */\n",
              "        border: none;\n",
              "        /* Needs to be in here for Safari polyfill so background images work as expected. */\n",
              "        background-size: auto;\n",
              "    }\n",
              "    progress:not([value]), progress:not([value])::-webkit-progress-bar {\n",
              "        background: repeating-linear-gradient(45deg, #7e7e7e, #7e7e7e 10px, #5c5c5c 10px, #5c5c5c 20px);\n",
              "    }\n",
              "    .progress-bar-interrupted, .progress-bar-interrupted::-webkit-progress-bar {\n",
              "        background: #F44336;\n",
              "    }\n",
              "</style>\n"
            ]
          },
          "metadata": {}
        },
        {
          "output_type": "display_data",
          "data": {
            "text/plain": [
              "<IPython.core.display.HTML object>"
            ],
            "text/html": []
          },
          "metadata": {}
        },
        {
          "output_type": "stream",
          "name": "stderr",
          "text": [
            "/usr/local/lib/python3.7/dist-packages/fastai/text/data.py:124: VisibleDeprecationWarning: Creating an ndarray from ragged nested sequences (which is a list-or-tuple of lists-or-tuples-or ndarrays with different lengths or shapes) is deprecated. If you meant to do this, you must specify 'dtype=object' when creating the ndarray.\n",
            "  sort_idx = np.concatenate(np.random.permutation(ck_idx[1:])) if len(ck_idx) > 1 else np.array([],dtype=np.int)\n",
            "<string>:6: VisibleDeprecationWarning: Creating an ndarray from ragged nested sequences (which is a list-or-tuple of lists-or-tuples-or ndarrays with different lengths or shapes) is deprecated. If you meant to do this, you must specify 'dtype=object' when creating the ndarray.\n"
          ]
        }
      ]
    },
    {
      "cell_type": "code",
      "metadata": {
        "id": "Kc2fiXTCTjHh",
        "colab": {
          "base_uri": "https://localhost:8080/",
          "height": 484
        },
        "outputId": "e9358885-4452-4936-d134-733ce63a7b12"
      },
      "source": [
        "data_clas.show_batch()"
      ],
      "execution_count": 12,
      "outputs": [
        {
          "output_type": "display_data",
          "data": {
            "text/plain": [
              "<IPython.core.display.HTML object>"
            ],
            "text/html": [
              "<table border=\"1\" class=\"dataframe\">\n",
              "  <thead>\n",
              "    <tr style=\"text-align: right;\">\n",
              "      <th>text</th>\n",
              "      <th>target</th>\n",
              "    </tr>\n",
              "  </thead>\n",
              "  <tbody>\n",
              "    <tr>\n",
              "      <td>xxbos xxmaj the last thing i ever wanted to do was hurt you . xxmaj and i did n't think it would have . xxmaj you 'd laugh , be embarassed , delete the xxunk and keep going . xxmaj but as far as i knew , it was n't even up . xxmaj the fact that you even felt like i would do it to hurt you shows you</td>\n",
              "      <td>ham</td>\n",
              "    </tr>\n",
              "    <tr>\n",
              "      <td>xxbos xxmaj sad story of a xxmaj man - xxmaj last week was my b'day . xxmaj my xxmaj wife did'nt wish me . xxmaj my xxmaj parents forgot n so did my xxmaj kids . i went to work . xxmaj even my xxmaj colleagues did not wish . xxmaj as i entered my cabin my xxup pa said , '' xxmaj happy xxmaj b'day xxmaj boss ! !</td>\n",
              "      <td>ham</td>\n",
              "    </tr>\n",
              "    <tr>\n",
              "      <td>xxbos xxmaj for me the love should start with xxunk should feel that i need her every time around xxunk should be the first thing which comes in my thoughts . i would start the day and end it with xxunk should be there every time i xxunk will be then when my every breath has her xxunk life should happen around xxunk life will be named to her .</td>\n",
              "      <td>ham</td>\n",
              "    </tr>\n",
              "    <tr>\n",
              "      <td>xxbos &lt; # &gt; is fast xxunk . xxmaj so , xxmaj wish u a very xxmaj happy xxmaj new xxmaj year xxmaj happy xxmaj xxunk xxmaj happy xxunk day xxmaj happy xxmaj valentines xxmaj day xxmaj happy xxmaj xxunk xxmaj happy xxmaj xxunk xxmaj happy xxmaj xxunk day xxmaj happy xxmaj may xxmaj day xxmaj happy xxmaj xxunk xxmaj day , xxmaj happy xxmaj friendship , xxmaj mother ,</td>\n",
              "      <td>ham</td>\n",
              "    </tr>\n",
              "    <tr>\n",
              "      <td>xxbos xxmaj solve d xxmaj case : a xxmaj man xxmaj was xxmaj found xxmaj murdered xxmaj on &lt; xxup decimal &gt; . &lt; # &gt; afternoon . 1,his wife called xxmaj police . 2,police questioned everyone . 3,wife : xxmaj sir , i was sleeping , when the murder took place . 4.cook : i was cooking . 5.gardener : i was picking vegetables . 6.house - xxmaj maid</td>\n",
              "      <td>ham</td>\n",
              "    </tr>\n",
              "  </tbody>\n",
              "</table>"
            ]
          },
          "metadata": {}
        }
      ]
    },
    {
      "cell_type": "code",
      "metadata": {
        "id": "6sjwotSITjHi"
      },
      "source": [
        "# create the classifier\n",
        "learn_classifier = text_classifier_learner(data_clas, drop_mult=0.7, arch = AWD_LSTM)"
      ],
      "execution_count": 13,
      "outputs": []
    },
    {
      "cell_type": "code",
      "metadata": {
        "id": "sfzqId9jTjHi",
        "colab": {
          "base_uri": "https://localhost:8080/"
        },
        "outputId": "93d57ed9-8822-4424-911c-869d66519dc5"
      },
      "source": [
        "# load language model\n",
        "learn_classifier.load_encoder('my_awsome_encoder')"
      ],
      "execution_count": 14,
      "outputs": [
        {
          "output_type": "execute_result",
          "data": {
            "text/plain": [
              "RNNLearner(data=TextClasDataBunch;\n",
              "\n",
              "Train: LabelList (3900 items)\n",
              "x: TextList\n",
              "xxbos i liked your new house,xxbos xxmaj xxunk i 'm walking in xxunk now ü faster come down ... xxmaj me very hungry ...,xxbos xxmaj wan2 win a meet+greet with xxmaj westlife 4 u or a m8 ? xxmaj they are currently on what tour ? 1)unbreakable , 2)untamed , 3)unkempt . xxmaj text 1,2 or 3 to 83049 . xxmaj cost 50p + std text,xxbos xxmaj otherwise had part time job na - tuition ..,xxbos xxmaj wait , do you know if xxunk in town ? i bet she does hella drugs !\n",
              "y: CategoryList\n",
              "ham,ham,spam,ham,ham\n",
              "Path: .;\n",
              "\n",
              "Valid: LabelList (1672 items)\n",
              "x: TextList\n",
              "xxbos xxmaj not a lot has happened here . xxmaj feels very xxunk . xxmaj xxunk is at her xxunk and xxunk is working lots . xxmaj just me and xxunk in at the mo . xxmaj how have you been ?,xxbos xxmaj the current xxunk bid is xxunk . xxmaj to xxunk this auction send xxup out . xxmaj customer xxmaj care : xxunk,xxbos xxmaj are you free xxunk i call now ?,xxbos xxmaj cold . xxmaj do nt be sad dear,xxbos xxmaj cool , text me when you 're xxunk\n",
              "y: CategoryList\n",
              "ham,spam,ham,ham,ham\n",
              "Path: .;\n",
              "\n",
              "Test: None, model=SequentialRNN(\n",
              "  (0): MultiBatchEncoder(\n",
              "    (module): AWD_LSTM(\n",
              "      (encoder): Embedding(3552, 400, padding_idx=1)\n",
              "      (encoder_dp): EmbeddingDropout(\n",
              "        (emb): Embedding(3552, 400, padding_idx=1)\n",
              "      )\n",
              "      (rnns): ModuleList(\n",
              "        (0): WeightDropout(\n",
              "          (module): LSTM(400, 1152, batch_first=True)\n",
              "        )\n",
              "        (1): WeightDropout(\n",
              "          (module): LSTM(1152, 1152, batch_first=True)\n",
              "        )\n",
              "        (2): WeightDropout(\n",
              "          (module): LSTM(1152, 400, batch_first=True)\n",
              "        )\n",
              "      )\n",
              "      (input_dp): RNNDropout()\n",
              "      (hidden_dps): ModuleList(\n",
              "        (0): RNNDropout()\n",
              "        (1): RNNDropout()\n",
              "        (2): RNNDropout()\n",
              "      )\n",
              "    )\n",
              "  )\n",
              "  (1): PoolingLinearClassifier(\n",
              "    (layers): Sequential(\n",
              "      (0): BatchNorm1d(1200, eps=1e-05, momentum=0.1, affine=True, track_running_stats=True)\n",
              "      (1): Dropout(p=0.27999999999999997, inplace=False)\n",
              "      (2): Linear(in_features=1200, out_features=50, bias=True)\n",
              "      (3): ReLU(inplace=True)\n",
              "      (4): BatchNorm1d(50, eps=1e-05, momentum=0.1, affine=True, track_running_stats=True)\n",
              "      (5): Dropout(p=0.1, inplace=False)\n",
              "      (6): Linear(in_features=50, out_features=2, bias=True)\n",
              "    )\n",
              "  )\n",
              "), opt_func=functools.partial(<class 'torch.optim.adam.Adam'>, betas=(0.9, 0.99)), loss_func=FlattenedLoss of CrossEntropyLoss(), metrics=[<function accuracy at 0x7f72fe4f2320>], true_wd=True, bn_wd=True, wd=0.01, train_bn=True, path=PosixPath('.'), model_dir='models', callback_fns=[functools.partial(<class 'fastai.basic_train.Recorder'>, add_time=True, silent=False)], callbacks=[RNNTrainer\n",
              "learn: ...\n",
              "alpha: 2.0\n",
              "beta: 1.0], layer_groups=[Sequential(\n",
              "  (0): Embedding(3552, 400, padding_idx=1)\n",
              "  (1): EmbeddingDropout(\n",
              "    (emb): Embedding(3552, 400, padding_idx=1)\n",
              "  )\n",
              "), Sequential(\n",
              "  (0): WeightDropout(\n",
              "    (module): LSTM(400, 1152, batch_first=True)\n",
              "  )\n",
              "  (1): RNNDropout()\n",
              "), Sequential(\n",
              "  (0): WeightDropout(\n",
              "    (module): LSTM(1152, 1152, batch_first=True)\n",
              "  )\n",
              "  (1): RNNDropout()\n",
              "), Sequential(\n",
              "  (0): WeightDropout(\n",
              "    (module): LSTM(1152, 400, batch_first=True)\n",
              "  )\n",
              "  (1): RNNDropout()\n",
              "), Sequential(\n",
              "  (0): PoolingLinearClassifier(\n",
              "    (layers): Sequential(\n",
              "      (0): BatchNorm1d(1200, eps=1e-05, momentum=0.1, affine=True, track_running_stats=True)\n",
              "      (1): Dropout(p=0.27999999999999997, inplace=False)\n",
              "      (2): Linear(in_features=1200, out_features=50, bias=True)\n",
              "      (3): ReLU(inplace=True)\n",
              "      (4): BatchNorm1d(50, eps=1e-05, momentum=0.1, affine=True, track_running_stats=True)\n",
              "      (5): Dropout(p=0.1, inplace=False)\n",
              "      (6): Linear(in_features=50, out_features=2, bias=True)\n",
              "    )\n",
              "  )\n",
              ")], add_time=True, silent=False)"
            ]
          },
          "metadata": {},
          "execution_count": 14
        }
      ]
    },
    {
      "cell_type": "code",
      "metadata": {
        "id": "yQzxgvqSTjHi",
        "colab": {
          "base_uri": "https://localhost:8080/",
          "height": 481
        },
        "outputId": "ee1c3f61-e2ba-4fec-ac4f-fa29343cdca9"
      },
      "source": [
        "# train classifier\n",
        "learn_classifier.lr_find()\n",
        "learn_classifier.recorder.plot(suggestion=True)"
      ],
      "execution_count": 15,
      "outputs": [
        {
          "output_type": "display_data",
          "data": {
            "text/plain": [
              "<IPython.core.display.HTML object>"
            ],
            "text/html": [
              "\n",
              "<style>\n",
              "    /* Turns off some styling */\n",
              "    progress {\n",
              "        /* gets rid of default border in Firefox and Opera. */\n",
              "        border: none;\n",
              "        /* Needs to be in here for Safari polyfill so background images work as expected. */\n",
              "        background-size: auto;\n",
              "    }\n",
              "    progress:not([value]), progress:not([value])::-webkit-progress-bar {\n",
              "        background: repeating-linear-gradient(45deg, #7e7e7e, #7e7e7e 10px, #5c5c5c 10px, #5c5c5c 20px);\n",
              "    }\n",
              "    .progress-bar-interrupted, .progress-bar-interrupted::-webkit-progress-bar {\n",
              "        background: #F44336;\n",
              "    }\n",
              "</style>\n"
            ]
          },
          "metadata": {}
        },
        {
          "output_type": "display_data",
          "data": {
            "text/plain": [
              "<IPython.core.display.HTML object>"
            ],
            "text/html": [
              "\n",
              "    <div>\n",
              "      <progress value='0' class='' max='1' style='width:300px; height:20px; vertical-align: middle;'></progress>\n",
              "      0.00% [0/1 00:00&lt;?]\n",
              "    </div>\n",
              "    \n",
              "<table border=\"1\" class=\"dataframe\">\n",
              "  <thead>\n",
              "    <tr style=\"text-align: left;\">\n",
              "      <th>epoch</th>\n",
              "      <th>train_loss</th>\n",
              "      <th>valid_loss</th>\n",
              "      <th>accuracy</th>\n",
              "      <th>time</th>\n",
              "    </tr>\n",
              "  </thead>\n",
              "  <tbody>\n",
              "  </tbody>\n",
              "</table><p>\n",
              "\n",
              "    <div>\n",
              "      <progress value='93' class='' max='121' style='width:300px; height:20px; vertical-align: middle;'></progress>\n",
              "      76.86% [93/121 00:01&lt;00:00 0.8352]\n",
              "    </div>\n",
              "    "
            ]
          },
          "metadata": {}
        },
        {
          "output_type": "stream",
          "name": "stderr",
          "text": [
            "/usr/local/lib/python3.7/dist-packages/fastai/text/data.py:124: VisibleDeprecationWarning: Creating an ndarray from ragged nested sequences (which is a list-or-tuple of lists-or-tuples-or ndarrays with different lengths or shapes) is deprecated. If you meant to do this, you must specify 'dtype=object' when creating the ndarray.\n",
            "  sort_idx = np.concatenate(np.random.permutation(ck_idx[1:])) if len(ck_idx) > 1 else np.array([],dtype=np.int)\n",
            "<string>:6: VisibleDeprecationWarning: Creating an ndarray from ragged nested sequences (which is a list-or-tuple of lists-or-tuples-or ndarrays with different lengths or shapes) is deprecated. If you meant to do this, you must specify 'dtype=object' when creating the ndarray.\n"
          ]
        },
        {
          "output_type": "stream",
          "name": "stdout",
          "text": [
            "LR Finder is complete, type {learner_name}.recorder.plot() to see the graph.\n",
            "Min numerical gradient: 4.37E-03\n",
            "Min loss divided by 10: 2.51E-02\n"
          ]
        },
        {
          "output_type": "display_data",
          "data": {
            "text/plain": [
              "<Figure size 432x288 with 1 Axes>"
            ],
            "image/png": "[encoded data removed]"
          },
          "metadata": {
            "needs_background": "light"
          }
        }
      ]
    },
    {
      "cell_type": "code",
      "metadata": {
        "id": "7boiRtwsTjHi",
        "colab": {
          "base_uri": "https://localhost:8080/",
          "height": 486
        },
        "outputId": "9f26fc61-2aa6-45e8-c50c-ab9b7348fa50"
      },
      "source": [
        "learn_classifier.fit_one_cycle(5, max_lr=1e-2, moms=(0.8,0.7))"
      ],
      "execution_count": 16,
      "outputs": [
        {
          "output_type": "display_data",
          "data": {
            "text/plain": [
              "<IPython.core.display.HTML object>"
            ],
            "text/html": [
              "\n",
              "<style>\n",
              "    /* Turns off some styling */\n",
              "    progress {\n",
              "        /* gets rid of default border in Firefox and Opera. */\n",
              "        border: none;\n",
              "        /* Needs to be in here for Safari polyfill so background images work as expected. */\n",
              "        background-size: auto;\n",
              "    }\n",
              "    progress:not([value]), progress:not([value])::-webkit-progress-bar {\n",
              "        background: repeating-linear-gradient(45deg, #7e7e7e, #7e7e7e 10px, #5c5c5c 10px, #5c5c5c 20px);\n",
              "    }\n",
              "    .progress-bar-interrupted, .progress-bar-interrupted::-webkit-progress-bar {\n",
              "        background: #F44336;\n",
              "    }\n",
              "</style>\n"
            ]
          },
          "metadata": {}
        },
        {
          "output_type": "display_data",
          "data": {
            "text/plain": [
              "<IPython.core.display.HTML object>"
            ],
            "text/html": [
              "<table border=\"1\" class=\"dataframe\">\n",
              "  <thead>\n",
              "    <tr style=\"text-align: left;\">\n",
              "      <th>epoch</th>\n",
              "      <th>train_loss</th>\n",
              "      <th>valid_loss</th>\n",
              "      <th>accuracy</th>\n",
              "      <th>time</th>\n",
              "    </tr>\n",
              "  </thead>\n",
              "  <tbody>\n",
              "    <tr>\n",
              "      <td>0</td>\n",
              "      <td>0.384117</td>\n",
              "      <td>0.071050</td>\n",
              "      <td>0.979665</td>\n",
              "      <td>00:04</td>\n",
              "    </tr>\n",
              "    <tr>\n",
              "      <td>1</td>\n",
              "      <td>0.188848</td>\n",
              "      <td>0.068091</td>\n",
              "      <td>0.984450</td>\n",
              "      <td>00:03</td>\n",
              "    </tr>\n",
              "    <tr>\n",
              "      <td>2</td>\n",
              "      <td>0.135457</td>\n",
              "      <td>0.062917</td>\n",
              "      <td>0.983254</td>\n",
              "      <td>00:03</td>\n",
              "    </tr>\n",
              "    <tr>\n",
              "      <td>3</td>\n",
              "      <td>0.095456</td>\n",
              "      <td>0.063706</td>\n",
              "      <td>0.988038</td>\n",
              "      <td>00:03</td>\n",
              "    </tr>\n",
              "    <tr>\n",
              "      <td>4</td>\n",
              "      <td>0.099666</td>\n",
              "      <td>0.064934</td>\n",
              "      <td>0.988636</td>\n",
              "      <td>00:03</td>\n",
              "    </tr>\n",
              "  </tbody>\n",
              "</table>"
            ]
          },
          "metadata": {}
        },
        {
          "output_type": "stream",
          "name": "stderr",
          "text": [
            "/usr/local/lib/python3.7/dist-packages/fastai/text/data.py:124: VisibleDeprecationWarning: Creating an ndarray from ragged nested sequences (which is a list-or-tuple of lists-or-tuples-or ndarrays with different lengths or shapes) is deprecated. If you meant to do this, you must specify 'dtype=object' when creating the ndarray.\n",
            "  sort_idx = np.concatenate(np.random.permutation(ck_idx[1:])) if len(ck_idx) > 1 else np.array([],dtype=np.int)\n",
            "<string>:6: VisibleDeprecationWarning: Creating an ndarray from ragged nested sequences (which is a list-or-tuple of lists-or-tuples-or ndarrays with different lengths or shapes) is deprecated. If you meant to do this, you must specify 'dtype=object' when creating the ndarray.\n",
            "/usr/local/lib/python3.7/dist-packages/fastai/text/data.py:124: VisibleDeprecationWarning: Creating an ndarray from ragged nested sequences (which is a list-or-tuple of lists-or-tuples-or ndarrays with different lengths or shapes) is deprecated. If you meant to do this, you must specify 'dtype=object' when creating the ndarray.\n",
            "  sort_idx = np.concatenate(np.random.permutation(ck_idx[1:])) if len(ck_idx) > 1 else np.array([],dtype=np.int)\n",
            "<string>:6: VisibleDeprecationWarning: Creating an ndarray from ragged nested sequences (which is a list-or-tuple of lists-or-tuples-or ndarrays with different lengths or shapes) is deprecated. If you meant to do this, you must specify 'dtype=object' when creating the ndarray.\n",
            "/usr/local/lib/python3.7/dist-packages/fastai/text/data.py:124: VisibleDeprecationWarning: Creating an ndarray from ragged nested sequences (which is a list-or-tuple of lists-or-tuples-or ndarrays with different lengths or shapes) is deprecated. If you meant to do this, you must specify 'dtype=object' when creating the ndarray.\n",
            "  sort_idx = np.concatenate(np.random.permutation(ck_idx[1:])) if len(ck_idx) > 1 else np.array([],dtype=np.int)\n",
            "<string>:6: VisibleDeprecationWarning: Creating an ndarray from ragged nested sequences (which is a list-or-tuple of lists-or-tuples-or ndarrays with different lengths or shapes) is deprecated. If you meant to do this, you must specify 'dtype=object' when creating the ndarray.\n",
            "/usr/local/lib/python3.7/dist-packages/fastai/text/data.py:124: VisibleDeprecationWarning: Creating an ndarray from ragged nested sequences (which is a list-or-tuple of lists-or-tuples-or ndarrays with different lengths or shapes) is deprecated. If you meant to do this, you must specify 'dtype=object' when creating the ndarray.\n",
            "  sort_idx = np.concatenate(np.random.permutation(ck_idx[1:])) if len(ck_idx) > 1 else np.array([],dtype=np.int)\n",
            "<string>:6: VisibleDeprecationWarning: Creating an ndarray from ragged nested sequences (which is a list-or-tuple of lists-or-tuples-or ndarrays with different lengths or shapes) is deprecated. If you meant to do this, you must specify 'dtype=object' when creating the ndarray.\n",
            "/usr/local/lib/python3.7/dist-packages/fastai/text/data.py:124: VisibleDeprecationWarning: Creating an ndarray from ragged nested sequences (which is a list-or-tuple of lists-or-tuples-or ndarrays with different lengths or shapes) is deprecated. If you meant to do this, you must specify 'dtype=object' when creating the ndarray.\n",
            "  sort_idx = np.concatenate(np.random.permutation(ck_idx[1:])) if len(ck_idx) > 1 else np.array([],dtype=np.int)\n",
            "<string>:6: VisibleDeprecationWarning: Creating an ndarray from ragged nested sequences (which is a list-or-tuple of lists-or-tuples-or ndarrays with different lengths or shapes) is deprecated. If you meant to do this, you must specify 'dtype=object' when creating the ndarray.\n"
          ]
        }
      ]
    },
    {
      "cell_type": "code",
      "metadata": {
        "id": "ToR6na02TjHi",
        "colab": {
          "base_uri": "https://localhost:8080/",
          "height": 279
        },
        "outputId": "8de7fcb6-89d2-4884-94d5-65168bd08615"
      },
      "source": [
        "learn_classifier.recorder.plot_losses()"
      ],
      "execution_count": 17,
      "outputs": [
        {
          "output_type": "display_data",
          "data": {
            "text/plain": [
              "<Figure size 432x288 with 1 Axes>"
            ],
            "image/png": "[encoded data removed]"
          },
          "metadata": {
            "needs_background": "light"
          }
        }
      ]
    },
    {
      "cell_type": "code",
      "metadata": {
        "id": "BLHJl3oQTjHi",
        "colab": {
          "base_uri": "https://localhost:8080/",
          "height": 481
        },
        "outputId": "9e5f0a2c-37ed-4f27-e34a-03cd171fb292"
      },
      "source": [
        "lang_mod.freeze_to(-1)\n",
        "\n",
        "learn_classifier.lr_find()\n",
        "learn_classifier.recorder.plot(suggestion=True)"
      ],
      "execution_count": 18,
      "outputs": [
        {
          "output_type": "display_data",
          "data": {
            "text/plain": [
              "<IPython.core.display.HTML object>"
            ],
            "text/html": [
              "\n",
              "<style>\n",
              "    /* Turns off some styling */\n",
              "    progress {\n",
              "        /* gets rid of default border in Firefox and Opera. */\n",
              "        border: none;\n",
              "        /* Needs to be in here for Safari polyfill so background images work as expected. */\n",
              "        background-size: auto;\n",
              "    }\n",
              "    progress:not([value]), progress:not([value])::-webkit-progress-bar {\n",
              "        background: repeating-linear-gradient(45deg, #7e7e7e, #7e7e7e 10px, #5c5c5c 10px, #5c5c5c 20px);\n",
              "    }\n",
              "    .progress-bar-interrupted, .progress-bar-interrupted::-webkit-progress-bar {\n",
              "        background: #F44336;\n",
              "    }\n",
              "</style>\n"
            ]
          },
          "metadata": {}
        },
        {
          "output_type": "display_data",
          "data": {
            "text/plain": [
              "<IPython.core.display.HTML object>"
            ],
            "text/html": [
              "\n",
              "    <div>\n",
              "      <progress value='0' class='' max='1' style='width:300px; height:20px; vertical-align: middle;'></progress>\n",
              "      0.00% [0/1 00:00&lt;?]\n",
              "    </div>\n",
              "    \n",
              "<table border=\"1\" class=\"dataframe\">\n",
              "  <thead>\n",
              "    <tr style=\"text-align: left;\">\n",
              "      <th>epoch</th>\n",
              "      <th>train_loss</th>\n",
              "      <th>valid_loss</th>\n",
              "      <th>accuracy</th>\n",
              "      <th>time</th>\n",
              "    </tr>\n",
              "  </thead>\n",
              "  <tbody>\n",
              "  </tbody>\n",
              "</table><p>\n",
              "\n",
              "    <div>\n",
              "      <progress value='81' class='' max='121' style='width:300px; height:20px; vertical-align: middle;'></progress>\n",
              "      66.94% [81/121 00:01&lt;00:00 0.1227]\n",
              "    </div>\n",
              "    "
            ]
          },
          "metadata": {}
        },
        {
          "output_type": "stream",
          "name": "stderr",
          "text": [
            "/usr/local/lib/python3.7/dist-packages/fastai/text/data.py:124: VisibleDeprecationWarning: Creating an ndarray from ragged nested sequences (which is a list-or-tuple of lists-or-tuples-or ndarrays with different lengths or shapes) is deprecated. If you meant to do this, you must specify 'dtype=object' when creating the ndarray.\n",
            "  sort_idx = np.concatenate(np.random.permutation(ck_idx[1:])) if len(ck_idx) > 1 else np.array([],dtype=np.int)\n",
            "<string>:6: VisibleDeprecationWarning: Creating an ndarray from ragged nested sequences (which is a list-or-tuple of lists-or-tuples-or ndarrays with different lengths or shapes) is deprecated. If you meant to do this, you must specify 'dtype=object' when creating the ndarray.\n"
          ]
        },
        {
          "output_type": "stream",
          "name": "stdout",
          "text": [
            "LR Finder is complete, type {learner_name}.recorder.plot() to see the graph.\n",
            "Min numerical gradient: 6.31E-07\n",
            "Min loss divided by 10: 1.00E-02\n"
          ]
        },
        {
          "output_type": "display_data",
          "data": {
            "text/plain": [
              "<Figure size 432x288 with 1 Axes>"
            ],
            "image/png": "[encoded data removed]"
          },
          "metadata": {
            "needs_background": "light"
          }
        }
      ]
    },
    {
      "cell_type": "markdown",
      "metadata": {
        "id": "ZyADkr6yTyG9"
      },
      "source": [
        "Test out the classification model on spam and non-spam examples."
      ]
    },
    {
      "cell_type": "code",
      "metadata": {
        "colab": {
          "base_uri": "https://localhost:8080/"
        },
        "id": "Y_KKaOnrTjHj",
        "outputId": "bd21f591-5def-47e8-91e2-0cf0d70e5230"
      },
      "source": [
        "# predict\n",
        "learn_classifier.predict('did you buy the groceries for dinner? :)')"
      ],
      "execution_count": 19,
      "outputs": [
        {
          "output_type": "execute_result",
          "data": {
            "text/plain": [
              "(Category tensor(0), tensor(0), tensor([9.9980e-01, 2.0450e-04]))"
            ]
          },
          "metadata": {},
          "execution_count": 19
        }
      ]
    },
    {
      "cell_type": "code",
      "metadata": {
        "colab": {
          "base_uri": "https://localhost:8080/"
        },
        "id": "A8Xv4N9STjHj",
        "outputId": "5c2e289e-7e47-479b-8c0f-f8abb5afd158"
      },
      "source": [
        "# predict\n",
        "learn_classifier.predict('Free entry call back now')"
      ],
      "execution_count": 20,
      "outputs": [
        {
          "output_type": "execute_result",
          "data": {
            "text/plain": [
              "(Category tensor(1), tensor(1), tensor([0.2627, 0.7373]))"
            ]
          },
          "metadata": {},
          "execution_count": 20
        }
      ]
    },
    {
      "cell_type": "markdown",
      "metadata": {
        "id": "gcUOVjveT8Xu"
      },
      "source": [
        "Next we will evaluate on all of our validation data."
      ]
    },
    {
      "cell_type": "code",
      "metadata": {
        "colab": {
          "base_uri": "https://localhost:8080/",
          "height": 34
        },
        "id": "jkvU1PvTTjHj",
        "outputId": "c893182a-a3be-4276-c290-8f2b663b30bb"
      },
      "source": [
        "# get predictions from validation\n",
        "valid_preds, valid_label=learn_classifier.get_preds(ds_type=DatasetType.Valid, ordered=True)\n",
        "valid_preds.shape"
      ],
      "execution_count": 51,
      "outputs": [
        {
          "output_type": "display_data",
          "data": {
            "text/plain": [
              "<IPython.core.display.HTML object>"
            ],
            "text/html": [
              "\n",
              "<style>\n",
              "    /* Turns off some styling */\n",
              "    progress {\n",
              "        /* gets rid of default border in Firefox and Opera. */\n",
              "        border: none;\n",
              "        /* Needs to be in here for Safari polyfill so background images work as expected. */\n",
              "        background-size: auto;\n",
              "    }\n",
              "    progress:not([value]), progress:not([value])::-webkit-progress-bar {\n",
              "        background: repeating-linear-gradient(45deg, #7e7e7e, #7e7e7e 10px, #5c5c5c 10px, #5c5c5c 20px);\n",
              "    }\n",
              "    .progress-bar-interrupted, .progress-bar-interrupted::-webkit-progress-bar {\n",
              "        background: #F44336;\n",
              "    }\n",
              "</style>\n"
            ]
          },
          "metadata": {}
        },
        {
          "output_type": "display_data",
          "data": {
            "text/plain": [
              "<IPython.core.display.HTML object>"
            ],
            "text/html": []
          },
          "metadata": {}
        },
        {
          "output_type": "execute_result",
          "data": {
            "text/plain": [
              "torch.Size([1672, 2])"
            ]
          },
          "metadata": {},
          "execution_count": 51
        }
      ]
    },
    {
      "cell_type": "markdown",
      "metadata": {
        "id": "s4UopYcrWw38"
      },
      "source": [
        "## Part 1. Evaluate Performance [10pt]\n",
        "\n",
        "### Part (a) [5pt]\n",
        "\n",
        "Implement the above helper code for spam detection. \n",
        "\n",
        "What is the accuracy obtained with ULMFiT? How does ULMFiT compare to the approach in the first part using only LSTM?"
      ]
    },
    {
      "cell_type": "markdown",
      "source": [
        "**Answer:**\n",
        "\n",
        "The accuracy obtained with ULMFit model is 98.86% whereas with LSTM, we obtained a test accuracy of 95.06% and validation accuracy of 98.565%.\n",
        "\n",
        "Transfer learning with ULMFit requires lesser data/resources to train and gives better performance because it is pretained with large amount of wikipedia text already."
      ],
      "metadata": {
        "id": "syQ3Hzk1fFGD"
      }
    },
    {
      "cell_type": "code",
      "source": [
        "pred_ulmfit = valid_preds.max(1, keepdim=True)[1]\n",
        "correct_pred_ulmfit = pred_ulmfit.eq(valid_label.view_as(pred_ulmfit)).sum().item()\n",
        "total_pred_ulmfit = len(valid_label)\n",
        "\n",
        "ulmfit_acc= float(correct_pred_ulmfit/total_pred_ulmfit)\n",
        "print('Validation Accuracy of ULMFiT model:', round(float(ulmfit_acc),5)*100,'%')"
      ],
      "metadata": {
        "colab": {
          "base_uri": "https://localhost:8080/"
        },
        "outputId": "32539795-7316-4985-a5b9-b1a6a0025a0f",
        "id": "pigWBpprq4ze"
      },
      "execution_count": 54,
      "outputs": [
        {
          "output_type": "stream",
          "name": "stdout",
          "text": [
            "Validation Accuracy of ULMFiT model: 98.86399999999999 %\n"
          ]
        }
      ]
    },
    {
      "cell_type": "markdown",
      "metadata": {
        "id": "ybdyEKx5Ww4F"
      },
      "source": [
        "### Part (b) [5pt]\n",
        "Provide a confusion matrix of the performance for the two models. How do they compare? Are there any qualitative differences between the performances (i.e. examine the samples for which the models differred)?"
      ]
    },
    {
      "cell_type": "markdown",
      "source": [
        "\n",
        "**Answer:**\n",
        "\n",
        "For LSTM model, we calculated both test and validation accuracies as it was split into 3 sets: train, validation and test. However, for ULMFiT, we evaluate only based on validation accuracy. The confusion matrices for the two models can be summarised as follows:\n",
        "\n",
        "- ULMFiT model has higher false negatives whereas LSTM has higher false positives. ULMFiT has just 2 flase positives whereas LSTM has 46 meaning LSTM is flagging  a lot of regular messages as spam. ULMFiT fails to detect 17 spam messages whereas LSTM fails to detect 9; however this dooes not mean that LSTM detects spam messages better as its evaluation data is smaller than ULMFiT.\n",
        "\n",
        "- The total number of false negatives and false positives are 19 for ULMFiT and 55 for LSTM. Although ULMFiT has more evaluation data, it still gives fewer false predictions which means that the its performance is better than LSTM in terms of confusion matrix.\n",
        "\n"
      ],
      "metadata": {
        "id": "29fUadcGfRTe"
      }
    },
    {
      "cell_type": "markdown",
      "source": [
        "**Confusion matrix for ULMFit Model:**"
      ],
      "metadata": {
        "id": "t-MNvaPPBDBL"
      }
    },
    {
      "cell_type": "code",
      "source": [
        "from sklearn.metrics import confusion_matrix, ConfusionMatrixDisplay\n",
        "\n",
        "cm = confusion_matrix(valid_label, pred_ulmfit)\n",
        "cmd = ConfusionMatrixDisplay(cm, display_labels=['not_spam','spam'])\n",
        "cmd.plot()"
      ],
      "metadata": {
        "colab": {
          "base_uri": "https://localhost:8080/",
          "height": 297
        },
        "id": "syZHlU1SGXv8",
        "outputId": "fc8420b6-efea-4713-be04-18f6eb184524"
      },
      "execution_count": 55,
      "outputs": [
        {
          "output_type": "execute_result",
          "data": {
            "text/plain": [
              "<sklearn.metrics._plot.confusion_matrix.ConfusionMatrixDisplay at 0x7f728b5f1550>"
            ]
          },
          "metadata": {},
          "execution_count": 55
        },
        {
          "output_type": "display_data",
          "data": {
            "text/plain": [
              "<Figure size 432x288 with 2 Axes>"
            ],
            "image/png": "[encoded data removed]"
          },
          "metadata": {
            "needs_background": "light"
          }
        }
      ]
    },
    {
      "cell_type": "markdown",
      "source": [
        "**Confusion matrix for best LSTM Model:**"
      ],
      "metadata": {
        "id": "EtsJGCMxBHQY"
      }
    },
    {
      "cell_type": "code",
      "source": [
        "test_iter = torchtext.legacy.data.BucketIterator(test,\n",
        "                                           batch_size=32,\n",
        "                                           sort_key=lambda x: len(x.sms), # to minimize padding\n",
        "                                           sort_within_batch=True,        # sort within each batch\n",
        "                                           repeat=False) "
      ],
      "metadata": {
        "id": "R3sykAB9JD5s"
      },
      "execution_count": 82,
      "outputs": []
    },
    {
      "cell_type": "code",
      "source": [
        "correct,total=0,0\n",
        "pred_rnn = []\n",
        "label_rnn= []\n",
        "\n",
        "for data in test_iter:\n",
        "  output=best_model(data.sms[0])\n",
        "  pred = output.max(1, keepdim=True)[1]\n",
        "  pred_rnn.extend(pred.squeeze())\n",
        "  label_rnn.extend(data.label)\n",
        "\n",
        "  correct += pred.eq(data.label.view_as(pred)).sum().item()\n",
        "  total += data.label.shape[0]\n",
        "\n",
        "cm = confusion_matrix(label_rnn, pred_rnn)#, normalize='all')\n",
        "cmd = ConfusionMatrixDisplay(cm, display_labels=['not_spam','spam'])\n",
        "cmd.plot()\n",
        "\n",
        "print('Test Accuracy of best LSTM model :',round(float(correct/total),5)*100,'%')"
      ],
      "metadata": {
        "id": "rg5hmm8pI2Fp",
        "colab": {
          "base_uri": "https://localhost:8080/",
          "height": 297
        },
        "outputId": "d422a1fe-f880-4a01-e142-379fb2584464"
      },
      "execution_count": 88,
      "outputs": [
        {
          "output_type": "stream",
          "name": "stdout",
          "text": [
            "Test Accuracy of best LSTM model : 95.063 %\n"
          ]
        },
        {
          "output_type": "display_data",
          "data": {
            "text/plain": [
              "<Figure size 432x288 with 2 Axes>"
            ],
            "image/png": "[encoded data removed]"
          },
          "metadata": {
            "needs_background": "light"
          }
        }
      ]
    },
    {
      "cell_type": "markdown",
      "metadata": {
        "id": "F9BpSLGBWw4F"
      },
      "source": [
        "## Part 2. Evaluate on New Data [10pt]\n",
        "\n",
        "### Part (a) [4pt]\n",
        "What is your model's prediction of the probability that the SMS message \"machine learning is sooo cool!\" is spam?"
      ]
    },
    {
      "cell_type": "code",
      "source": [
        "def test_models_umlfit(msg,testing_spam=True):\n",
        "  prob=learn_classifier.predict(msg)[2][1]\n",
        "  if testing_spam:\n",
        "    print(f'ULMFiT Probability that it is spam: {prob:.3f}')\n",
        "  else:\n",
        "    print(f'ULMFiT Probability that it is not spam: {1-prob:.3f}')\n",
        "\n",
        "\n",
        "def test_models_lstm(msg,testing_spam=True): \n",
        "  ch_tokens=[]\n",
        "  for character in msg:\n",
        "    ch_tokens.append(torch.tensor(text_field.vocab.stoi[character]))\n",
        "\n",
        "  all_tokens = torch.LongTensor([ch_tokens])\n",
        "\n",
        "  prediction = best_model(all_tokens)\n",
        "  prob = F.softmax(prediction, dim=1)\n",
        "  prob_=round(float(prob[0][1]),3)\n",
        "  if testing_spam:\n",
        "    print('LSTM Probability that it is spam:',prob_)\n",
        "  else:\n",
        "    print('LSTM Probability that it is not spam:',1-prob_)"
      ],
      "metadata": {
        "id": "4mSjrH4_OJMB"
      },
      "execution_count": 29,
      "outputs": []
    },
    {
      "cell_type": "code",
      "source": [
        "test_models_umlfit('machine learning is sooo cool!')"
      ],
      "metadata": {
        "colab": {
          "base_uri": "https://localhost:8080/"
        },
        "outputId": "e7e82fc4-d14d-42e0-d1c5-1cac9da91779",
        "id": "oD1nFLQEiwlg"
      },
      "execution_count": 30,
      "outputs": [
        {
          "output_type": "stream",
          "name": "stdout",
          "text": [
            "ULMFiT Probability that it is spam: 0.000\n"
          ]
        }
      ]
    },
    {
      "cell_type": "code",
      "source": [
        "test_models_lstm('machine learning is sooo cool!')"
      ],
      "metadata": {
        "colab": {
          "base_uri": "https://localhost:8080/"
        },
        "id": "PPsXW40jKjO8",
        "outputId": "f9b1dfec-99df-481e-b135-256b3170b90a"
      },
      "execution_count": 47,
      "outputs": [
        {
          "output_type": "stream",
          "name": "stdout",
          "text": [
            "LSTM Probability that it is spam: 0.065\n"
          ]
        }
      ]
    },
    {
      "cell_type": "markdown",
      "metadata": {
        "id": "H4FlSj_Mn2yY"
      },
      "source": [
        "### Part (b) [3 pt] \n",
        "Load 5 sample sentences from your spam mail and test it out out the two models you created. How well do they perform?"
      ]
    },
    {
      "cell_type": "markdown",
      "source": [
        "**Answer:**\n",
        "\n",
        "Both of them have a fairly good performance in classifying the spam messages with spam probability greater than 0.8 in most cases.\n",
        "\n"
      ],
      "metadata": {
        "id": "GyxzUStmyyeD"
      }
    },
    {
      "cell_type": "code",
      "source": [
        "spam_sentence1='Congratulations!! You won a lottery of (£1,000,00000).Please submit your card details'"
      ],
      "metadata": {
        "id": "GwgtZOJYaOdb"
      },
      "execution_count": 31,
      "outputs": []
    },
    {
      "cell_type": "code",
      "source": [
        "test_models_umlfit(spam_sentence1)"
      ],
      "metadata": {
        "colab": {
          "base_uri": "https://localhost:8080/"
        },
        "outputId": "36b44647-6807-486b-a06b-a32f3ebcaa02",
        "id": "IUxdeKulejaZ"
      },
      "execution_count": 32,
      "outputs": [
        {
          "output_type": "stream",
          "name": "stdout",
          "text": [
            "ULMFiT Probability that it is spam: 0.848\n"
          ]
        }
      ]
    },
    {
      "cell_type": "code",
      "source": [
        "test_models_lstm(spam_sentence1)"
      ],
      "metadata": {
        "colab": {
          "base_uri": "https://localhost:8080/"
        },
        "id": "18A53SYPaXCA",
        "outputId": "930b20a1-d0c3-4196-a8ac-9491df4e91c7"
      },
      "execution_count": 49,
      "outputs": [
        {
          "output_type": "stream",
          "name": "stdout",
          "text": [
            "LSTM Probability that it is spam: 0.947\n"
          ]
        }
      ]
    },
    {
      "cell_type": "code",
      "source": [
        "spam_sentence2='Hurry!! your gift of $1000 expires soon'"
      ],
      "metadata": {
        "id": "vP8YM0qGeQtJ"
      },
      "execution_count": 33,
      "outputs": []
    },
    {
      "cell_type": "code",
      "source": [
        "test_models_umlfit(spam_sentence2)"
      ],
      "metadata": {
        "colab": {
          "base_uri": "https://localhost:8080/"
        },
        "outputId": "8b2a36d1-77cb-4655-8d4d-b13de7080e52",
        "id": "aouJo_2yej6a"
      },
      "execution_count": 34,
      "outputs": [
        {
          "output_type": "stream",
          "name": "stdout",
          "text": [
            "ULMFiT Probability that it is spam: 0.271\n"
          ]
        }
      ]
    },
    {
      "cell_type": "code",
      "source": [
        "test_models_lstm(spam_sentence2)"
      ],
      "metadata": {
        "colab": {
          "base_uri": "https://localhost:8080/"
        },
        "outputId": "6f31a250-1eef-40ee-85bf-2b6335f42d28",
        "id": "0-lZJn3ueTwI"
      },
      "execution_count": 53,
      "outputs": [
        {
          "output_type": "stream",
          "name": "stdout",
          "text": [
            "LSTM Probability that it is spam: 0.995\n"
          ]
        }
      ]
    },
    {
      "cell_type": "code",
      "source": [
        "spam_sentence3='Your Loan Amount for $50,000 is approved!!'"
      ],
      "metadata": {
        "id": "zZoaNxIHeWIg"
      },
      "execution_count": 35,
      "outputs": []
    },
    {
      "cell_type": "code",
      "source": [
        "test_models_umlfit(spam_sentence3)"
      ],
      "metadata": {
        "colab": {
          "base_uri": "https://localhost:8080/"
        },
        "outputId": "9bb6c3ed-13f2-4ba7-bcc6-5c37e0079534",
        "id": "2ELtjVztekpY"
      },
      "execution_count": 36,
      "outputs": [
        {
          "output_type": "stream",
          "name": "stdout",
          "text": [
            "ULMFiT Probability that it is spam: 0.314\n"
          ]
        }
      ]
    },
    {
      "cell_type": "code",
      "source": [
        "test_models_lstm(spam_sentence3)"
      ],
      "metadata": {
        "colab": {
          "base_uri": "https://localhost:8080/"
        },
        "outputId": "d86d5cd7-66ff-4a97-9885-78fe258fd4a5",
        "id": "eNbq06A1eUB4"
      },
      "execution_count": 55,
      "outputs": [
        {
          "output_type": "stream",
          "name": "stdout",
          "text": [
            "LSTM Probability that it is spam: 0.979\n"
          ]
        }
      ]
    },
    {
      "cell_type": "code",
      "source": [
        "spam_sentence4='50+ Exciting Industry Projects to become a Full-Stack Data Scientist'"
      ],
      "metadata": {
        "id": "UvmD056XeaWk"
      },
      "execution_count": 37,
      "outputs": []
    },
    {
      "cell_type": "code",
      "source": [
        "test_models_umlfit(spam_sentence4)"
      ],
      "metadata": {
        "colab": {
          "base_uri": "https://localhost:8080/"
        },
        "outputId": "67d9cc7d-3a69-47eb-b9d9-5df7dc000963",
        "id": "mzdil-CmelW6"
      },
      "execution_count": 38,
      "outputs": [
        {
          "output_type": "stream",
          "name": "stdout",
          "text": [
            "ULMFiT Probability that it is spam: 0.539\n"
          ]
        }
      ]
    },
    {
      "cell_type": "code",
      "source": [
        "test_models_lstm(spam_sentence4)"
      ],
      "metadata": {
        "colab": {
          "base_uri": "https://localhost:8080/"
        },
        "outputId": "1f3309fc-5ec4-4c2c-d5ae-6f6700ceb46c",
        "id": "bnVxQ6yneURp"
      },
      "execution_count": 57,
      "outputs": [
        {
          "output_type": "stream",
          "name": "stdout",
          "text": [
            "LSTM Probability that it is spam: 0.892\n"
          ]
        }
      ]
    },
    {
      "cell_type": "code",
      "source": [
        "spam_sentence5='You’ve won a prize! Go to our website to claim your $500 gift card'"
      ],
      "metadata": {
        "id": "_t5vXtQ2ecC3"
      },
      "execution_count": 39,
      "outputs": []
    },
    {
      "cell_type": "code",
      "source": [
        "test_models_umlfit(spam_sentence5)"
      ],
      "metadata": {
        "colab": {
          "base_uri": "https://localhost:8080/"
        },
        "outputId": "2de42068-3bdf-4ff3-942a-5410b39ed40f",
        "id": "AvfYwKwUelwI"
      },
      "execution_count": 40,
      "outputs": [
        {
          "output_type": "stream",
          "name": "stdout",
          "text": [
            "ULMFiT Probability that it is spam: 0.871\n"
          ]
        }
      ]
    },
    {
      "cell_type": "code",
      "source": [
        "test_models_lstm(spam_sentence5)"
      ],
      "metadata": {
        "colab": {
          "base_uri": "https://localhost:8080/"
        },
        "outputId": "7319e8c2-a7cb-4933-ab5f-414d2db333e2",
        "id": "KGkfK752eUhg"
      },
      "execution_count": 60,
      "outputs": [
        {
          "output_type": "stream",
          "name": "stdout",
          "text": [
            "LSTM Probability that it is spam: 0.978\n"
          ]
        }
      ]
    },
    {
      "cell_type": "markdown",
      "metadata": {
        "id": "646WjsAwWw4F"
      },
      "source": [
        "### Part (c) [3pt]\n",
        "Load 5 sample sentences from your regular mail and test it out out the two models you created. How well do they perform?"
      ]
    },
    {
      "cell_type": "markdown",
      "source": [
        "**Answer:**\n",
        "\n",
        "ULMFiT has been able to classify all regular messages correctly with significantly high probability whereas LSTM fails to classify 2 of them. LSTM is not able to identify genuine messages related to payment maybe because while training, it was exposed to money related SMS in spam itself. Thus, ULMFiT performs better in classifying non-spam messages.\n",
        "\n"
      ],
      "metadata": {
        "id": "rJc2HKOqyLGs"
      }
    },
    {
      "cell_type": "code",
      "source": [
        "regular_sentence1='Your Google Play Order Receipt from 23 Oct 2022'"
      ],
      "metadata": {
        "id": "rL13e6JsfETX"
      },
      "execution_count": 41,
      "outputs": []
    },
    {
      "cell_type": "code",
      "source": [
        "test_models_umlfit(regular_sentence1,testing_spam=False)"
      ],
      "metadata": {
        "colab": {
          "base_uri": "https://localhost:8080/"
        },
        "id": "kVSrhq-IfEgc",
        "outputId": "43ec8cf6-1b9f-4ccf-c21a-84b7f9fbe0fa"
      },
      "execution_count": 42,
      "outputs": [
        {
          "output_type": "stream",
          "name": "stdout",
          "text": [
            "ULMFiT Probability that it is not spam: 0.645\n"
          ]
        }
      ]
    },
    {
      "cell_type": "code",
      "source": [
        "test_models_lstm(regular_sentence1,testing_spam=False)"
      ],
      "metadata": {
        "colab": {
          "base_uri": "https://localhost:8080/"
        },
        "id": "lgR5SMO8fEks",
        "outputId": "e374f8c4-6f2f-4f11-c485-f201f62e1f80"
      },
      "execution_count": 67,
      "outputs": [
        {
          "output_type": "stream",
          "name": "stdout",
          "text": [
            "LSTM Probability that it is not spam: 0.018000000000000016\n"
          ]
        }
      ]
    },
    {
      "cell_type": "code",
      "source": [
        "regular_sentence2='We wish to inform you that, with reference to refund against PNR Number 475, an amount of Rs. 208 has been processed'"
      ],
      "metadata": {
        "id": "0kBJtZUkfEnk"
      },
      "execution_count": 43,
      "outputs": []
    },
    {
      "cell_type": "code",
      "source": [
        "test_models_umlfit(regular_sentence2,testing_spam=False)"
      ],
      "metadata": {
        "colab": {
          "base_uri": "https://localhost:8080/"
        },
        "id": "ZkZLwHKbfSuR",
        "outputId": "351558a7-e22c-4e86-a942-5615e3de5628"
      },
      "execution_count": 44,
      "outputs": [
        {
          "output_type": "stream",
          "name": "stdout",
          "text": [
            "ULMFiT Probability that it is not spam: 0.800\n"
          ]
        }
      ]
    },
    {
      "cell_type": "code",
      "source": [
        "test_models_lstm(regular_sentence2,testing_spam=False)"
      ],
      "metadata": {
        "colab": {
          "base_uri": "https://localhost:8080/"
        },
        "id": "wts5dWgmfS74",
        "outputId": "c888fdc7-21a1-4dcb-af81-cf86d6a758de"
      },
      "execution_count": 69,
      "outputs": [
        {
          "output_type": "stream",
          "name": "stdout",
          "text": [
            "LSTM Probability that it is not spam: 0.20499999999999996\n"
          ]
        }
      ]
    },
    {
      "cell_type": "code",
      "source": [
        "regular_sentence3='We noticed a new sign-in to your Google Account on a Windows device.'"
      ],
      "metadata": {
        "id": "_7LAJUFPfEsh"
      },
      "execution_count": 45,
      "outputs": []
    },
    {
      "cell_type": "code",
      "source": [
        "test_models_umlfit(regular_sentence3,testing_spam=False)"
      ],
      "metadata": {
        "colab": {
          "base_uri": "https://localhost:8080/"
        },
        "id": "fYzhH1_CfTgJ",
        "outputId": "1ef94602-1b07-4ae4-a08a-22f4ba4da121"
      },
      "execution_count": 46,
      "outputs": [
        {
          "output_type": "stream",
          "name": "stdout",
          "text": [
            "ULMFiT Probability that it is not spam: 0.792\n"
          ]
        }
      ]
    },
    {
      "cell_type": "code",
      "source": [
        "test_models_lstm(regular_sentence3,testing_spam=False)"
      ],
      "metadata": {
        "colab": {
          "base_uri": "https://localhost:8080/"
        },
        "id": "cUUEg5pEfTsj",
        "outputId": "eec4e0d2-c4e3-4d2e-81d4-802cb7c5fdcd"
      },
      "execution_count": 71,
      "outputs": [
        {
          "output_type": "stream",
          "name": "stdout",
          "text": [
            "LSTM Probability that it is not spam: 0.935\n"
          ]
        }
      ]
    },
    {
      "cell_type": "code",
      "source": [
        "regular_sentence4='Great. How do you want to have further line of communication?'"
      ],
      "metadata": {
        "id": "yfxpZuvRfOtD"
      },
      "execution_count": 47,
      "outputs": []
    },
    {
      "cell_type": "code",
      "source": [
        "test_models_umlfit(regular_sentence4,testing_spam=False)"
      ],
      "metadata": {
        "colab": {
          "base_uri": "https://localhost:8080/"
        },
        "id": "jJQYNeS8fUBI",
        "outputId": "9c0d23f7-008f-4114-8038-bfe1ac4460fb"
      },
      "execution_count": 48,
      "outputs": [
        {
          "output_type": "stream",
          "name": "stdout",
          "text": [
            "ULMFiT Probability that it is not spam: 0.949\n"
          ]
        }
      ]
    },
    {
      "cell_type": "code",
      "source": [
        "test_models_lstm(regular_sentence4,testing_spam=False)"
      ],
      "metadata": {
        "colab": {
          "base_uri": "https://localhost:8080/"
        },
        "id": "4Xz4ZLLufULA",
        "outputId": "3d7836f0-3caf-42e5-c079-dadd2ac5fcf0"
      },
      "execution_count": 73,
      "outputs": [
        {
          "output_type": "stream",
          "name": "stdout",
          "text": [
            "LSTM Probability that it is not spam: 0.748\n"
          ]
        }
      ]
    },
    {
      "cell_type": "code",
      "source": [
        "regular_sentence5='Are you free to have the meeting sometime next week?'"
      ],
      "metadata": {
        "id": "ieN17u6yfQ_d"
      },
      "execution_count": 49,
      "outputs": []
    },
    {
      "cell_type": "code",
      "source": [
        "test_models_umlfit(regular_sentence5,testing_spam=False)"
      ],
      "metadata": {
        "colab": {
          "base_uri": "https://localhost:8080/"
        },
        "id": "Qw_8QqxtfUpH",
        "outputId": "fb6273d4-6f2e-45f4-919e-8f9e2c8b548f"
      },
      "execution_count": 50,
      "outputs": [
        {
          "output_type": "stream",
          "name": "stdout",
          "text": [
            "ULMFiT Probability that it is not spam: 0.984\n"
          ]
        }
      ]
    },
    {
      "cell_type": "code",
      "source": [
        "test_models_lstm(regular_sentence5,testing_spam=False)"
      ],
      "metadata": {
        "colab": {
          "base_uri": "https://localhost:8080/"
        },
        "id": "yWWJLd6-fUzg",
        "outputId": "995f5761-930d-4cde-c36d-59b8afaf078d"
      },
      "execution_count": 75,
      "outputs": [
        {
          "output_type": "stream",
          "name": "stdout",
          "text": [
            "LSTM Probability that it is not spam: 0.91\n"
          ]
        }
      ]
    },
    {
      "cell_type": "markdown",
      "metadata": {
        "id": "FYwI4RmFS2RB"
      },
      "source": [
        "### Saving to HTML\n",
        "Detailed instructions for saving to HTML can be found <a href=\"https://stackoverflow.com/questions/53460051/convert-ipynb-notebook-to-html-in-google-colab/64487858#64487858\">here</a>. Provided below are a summary of the instructions:\n",
        "\n",
        "(1) download your ipynb file by clicking on File->Download.ipynb\n",
        "\n",
        "(2) reupload your file to the temporary Google Colab storage (you can access the temporary storage from the tab to the left)\n",
        "\n",
        "(3) run the following:"
      ]
    },
    {
      "cell_type": "code",
      "metadata": {
        "id": "2TrsqdNgS5ex",
        "colab": {
          "base_uri": "https://localhost:8080/"
        },
        "outputId": "3df22587-4391-4838-bb27-fad39e378420"
      },
      "source": [
        "%%shell\n",
        "jupyter nbconvert --to html LAB_4_Sequential_Data_Bhagyashree.ipynb"
      ],
      "execution_count": 57,
      "outputs": [
        {
          "output_type": "stream",
          "name": "stdout",
          "text": [
            "[NbConvertApp] Converting notebook LAB_4_Sequential_Data_Bhagyashree.ipynb to html\n",
            "[NbConvertApp] Writing 855325 bytes to LAB_4_Sequential_Data_Bhagyashree.html\n"
          ]
        },
        {
          "output_type": "execute_result",
          "data": {
            "text/plain": []
          },
          "metadata": {},
          "execution_count": 57
        }
      ]
    },
    {
      "cell_type": "markdown",
      "metadata": {
        "id": "nuXhlFlPTY7F"
      },
      "source": [
        "(4) the html file will be available for download in the temporary Google Colab storage\n",
        "\n",
        "(5) review the html file and make sure all the results are visible before submitting your assignment to Quercus"
      ]
    }
  ]
}